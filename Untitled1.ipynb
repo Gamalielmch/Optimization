{
 "cells": [
  {
   "cell_type": "code",
   "execution_count": 6,
   "id": "1c909749-0eae-4a6e-ba8a-8423c3662c0b",
   "metadata": {},
   "outputs": [],
   "source": [
    "import numpy as np\n",
    "import matplotlib.pyplot as plt\n",
    "from mpl_toolkits.mplot3d import Axes3D\n",
    "from matplotlib import cm, colors\n",
    "%matplotlib qt"
   ]
  },
  {
   "cell_type": "markdown",
   "id": "3a8220fb-533e-4a1e-998c-5ecf7ad2a216",
   "metadata": {},
   "source": [
    "Función a aproximar $f(x)=2\\pi x_1x_2 + 2\\pi x_1^2$"
   ]
  },
  {
   "cell_type": "code",
   "execution_count": 7,
   "id": "a407c97a-d1c3-4d1c-b54c-31ff1d8f8b0a",
   "metadata": {},
   "outputs": [],
   "source": [
    "f = lambda  x1,x2 :2*np.pi*x1*x2 + 2*np.pi*x1**2\n",
    "fl = lambda  x1,x2 :520*np.pi*x1+160*np.pi*x2-28800*np.pi\n",
    "fc = lambda  x1,x2 :520*np.pi*x1+160*np.pi*x2-28800*np.pi +\\\n",
    "0.5*(x1-80)*(4*np.pi*x1 + 2*np.pi*x2-520*np.pi)+(x1-100)*(2*np.pi*x1-160*np.pi)"
   ]
  },
  {
   "cell_type": "code",
   "execution_count": 8,
   "id": "87a09d80-be28-49ab-aa2f-a0b5a3b08cc3",
   "metadata": {},
   "outputs": [],
   "source": [
    "x1 = np.linspace(0, 100, 100)\n",
    "x2 = np.linspace(0, 100, 100)\n",
    "xx1, xx2 = np.meshgrid(x1, x2)\n",
    "fx = f(xx1,xx2)\n",
    "fxl= fl(xx1,xx2)\n",
    "fxc= fc(xx1,xx2)"
   ]
  },
  {
   "cell_type": "code",
   "execution_count": 10,
   "id": "7eea7208-2ff9-460b-b9b0-76b67c41b2b7",
   "metadata": {},
   "outputs": [
    {
     "data": {
      "text/plain": [
       "<mpl_toolkits.mplot3d.art3d.Path3DCollection at 0x2c3c1959ee0>"
      ]
     },
     "execution_count": 10,
     "metadata": {},
     "output_type": "execute_result"
    }
   ],
   "source": [
    "fig = plt.figure()\n",
    "ax = fig.gca(projection='3d')\n",
    "ax.plot_surface(xx1,xx2,fx, cmap=plt.cm.RdYlGn,\n",
    "                      linewidth=0, antialiased=False)\n",
    "\n",
    "cmap = colors.LinearSegmentedColormap.from_list(\"\", [\"black\",\"black\",\"black\"])\n",
    "\n",
    "ax.plot_surface(xx1, xx2, fxc, alpha = 0.5, rstride=1, cstride=1, cmap=cmap,linewidth=0.5, antialiased=True, zorder = 0.3)\n",
    "ax.scatter(80, 100 , f(80,100),s=50)\n"
   ]
  },
  {
   "cell_type": "code",
   "execution_count": null,
   "id": "5b21a8f2-61df-4469-ac5d-32e20c4d1b76",
   "metadata": {},
   "outputs": [],
   "source": []
  }
 ],
 "metadata": {
  "kernelspec": {
   "display_name": "Python 3",
   "language": "python",
   "name": "python3"
  },
  "language_info": {
   "codemirror_mode": {
    "name": "ipython",
    "version": 3
   },
   "file_extension": ".py",
   "mimetype": "text/x-python",
   "name": "python",
   "nbconvert_exporter": "python",
   "pygments_lexer": "ipython3",
   "version": "3.8.8"
  }
 },
 "nbformat": 4,
 "nbformat_minor": 5
}
