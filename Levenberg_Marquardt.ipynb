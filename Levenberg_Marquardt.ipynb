{
 "cells": [
  {
   "cell_type": "code",
   "execution_count": 1,
   "metadata": {},
   "outputs": [],
   "source": [
    "import numpy as np\n",
    "import numpy.linalg as la\n",
    "import scipy.optimize as sopt\n",
    "import matplotlib.pyplot as plt\n",
    "from mpl_toolkits.mplot3d import Axes3D\n",
    "from matplotlib import cm\n",
    "from numpy import linalg as LA\n",
    "%matplotlib qt"
   ]
  },
  {
   "cell_type": "code",
   "execution_count": 2,
   "metadata": {},
   "outputs": [],
   "source": [
    "def funcx(x):\n",
    "    fx = 100*(np.sqrt(x[0]**2+(x[1]+1)**2)-1)**2 + 90*(np.sqrt(x[0]**2+(x[1]+1)**2)-1)**2 -(20*x[0]+40*x[1])\n",
    "    return fx"
   ]
  },
  {
   "cell_type": "code",
   "execution_count": 3,
   "metadata": {},
   "outputs": [],
   "source": [
    "def gradient(x,delta):\n",
    "    grad=np.zeros(2)\n",
    "    grad[0]=(funcx([x[0]+delta,x[1]])- funcx([x[0]-delta,x[1]]))/(2*delta)\n",
    "    grad[1]=(funcx([x[0],x[1]+delta])- funcx([x[0],x[1]-delta]))/(2*delta)\n",
    "    return grad"
   ]
  },
  {
   "cell_type": "code",
   "execution_count": 4,
   "metadata": {},
   "outputs": [],
   "source": [
    "def golden(x,search,xi,eps):\n",
    "    a = xi[0];\n",
    "    b = xi[1];\n",
    "    tau = 0.381967;\n",
    "    alpha1 = a*(1-tau) + b*tau;\n",
    "    alpha2 = a*tau + b*(1-tau);\n",
    "    falpha1 = funcx(x+alpha1*search);\n",
    "    falpha2 = funcx(x+alpha2*search);\n",
    "    for i in range(100):\n",
    "        if falpha1 > falpha2:\n",
    "            a = alpha1;\n",
    "            alpha1 = alpha2;\n",
    "            falpha1 = falpha2;\n",
    "            alpha2 = tau*a + (1-tau)*b;\n",
    "            falpha2 = funcx(x+alpha2*search);\n",
    "        else:\n",
    "            b = alpha2;\n",
    "            alpha2 = alpha1;\n",
    "            falpha2 = falpha1;\n",
    "            alpha1 = tau*b + (1-tau)*a;\n",
    "            falpha1 = funcx(x+alpha1*search);\n",
    "\n",
    "        if np.abs(funcx(x+alpha1*search)- funcx(x+alpha2*search)) < eps :\n",
    "            break;\n",
    "    return alpha1,falpha1"
   ]
  },
  {
   "cell_type": "code",
   "execution_count": 8,
   "metadata": {},
   "outputs": [],
   "source": [
    "def hessian(x,delta):\n",
    "    H=np.zeros([2,2])\n",
    "    H[0,0]= ( funcx([x[0]+delta,x[1]])  - 2*funcx(x) + funcx([x[0]-delta,x[1]]) )/ delta**2;\n",
    "    H[1,1]= ( funcx([x[0],x[1]+delta])  - 2*funcx(x) + funcx([x[0],x[1]-delta]) )/ delta**2; \n",
    "    H[0,1]= ( funcx([x[0]+delta,x[1]+delta]) - funcx([x[0]+delta,x[1]-delta]) - funcx([x[0]-delta,x[1]+delta]) + funcx([x[0]-delta,x[1]-delta]) )/ (4*(delta**2));\n",
    "    H[1,0]=H[0,1]\n",
    "    return H"
   ]
  },
  {
   "cell_type": "code",
   "execution_count": 33,
   "metadata": {},
   "outputs": [
    {
     "name": "stdout",
     "output_type": "stream",
     "text": [
      "Initial function value = 270.294169 \n",
      " \n",
      "No. \t \t x-vector \t   f(x) \t Deriv \n",
      "\n",
      "______________________________________________________________________\n",
      "\n",
      "0\t -0.830034 0.726181\t 146.756167 \t444.315788 \n",
      "\n",
      "1\t -0.625473 0.420472\t 53.601455 \t322.404920 \n",
      "\n",
      "2\t -0.427743 0.193196\t 14.427737 \t184.482760 \n",
      "\n",
      "3\t -0.232173 0.114446\t 3.703605 \t77.797869 \n",
      "\n",
      "4\t 0.025728 0.127774\t -2.509290 \t32.797739 \n",
      "\n",
      "5\t 0.281723 0.101941\t -6.125983 \t20.777534 \n",
      "\n",
      "6\t 0.425511 0.043008\t -7.191753 \t12.723430 \n",
      "\n",
      "7\t 0.484663 0.009224\t -7.345908 \t4.861128 \n",
      "\n",
      "8\t 0.498292 0.000598\t -7.352871 \t1.013133 \n",
      "\n",
      "9\t 0.499769 -0.000270\t -7.352938 \t0.084909 \n",
      "\n",
      "______________________________________________________________________\n",
      "\n"
     ]
    }
   ],
   "source": [
    "delta=1e-3; \n",
    "ep1=1e-3; \n",
    "xi = [-1,1];\n",
    "x = xi;\n",
    "lam = float(1e3);\n",
    "fx_prev=funcx(x)\n",
    "print(\"Initial function value = %f \\n \" % fx_prev)\n",
    "print(\"No. \\t \\t x-vector \\t   f(x) \\t Deriv \\n\")\n",
    "print(\"______________________________________________________________________\\n\")\n",
    "for j in range(30):\n",
    "    fx_prev=funcx(x)\n",
    "    dire=gradient(x,delta)\n",
    "    H=hessian(x,delta)\n",
    "    dire=np.atleast_2d(dire)\n",
    "    si=np.matmul(-LA.inv(H+lam*np.eye(len(x))),dire.transpose())\n",
    "    \n",
    "    x = x + si.transpose() \n",
    "    x=np.ndarray.flatten(x)\n",
    "    fx_curr = funcx(x)\n",
    "    if fx_curr < fx_prev:\n",
    "        lam = lam/2\n",
    "    else:\n",
    "        lam = 2*lam\n",
    "\n",
    "    if abs(fx_curr-fx_prev)<ep1 or LA.norm(dire)<ep1:\n",
    "        break;\n",
    "\n",
    "    print(\"%d\\t %f %f\\t %f \\t%f \\n\" %(j,x[0],x[1],fx_curr,LA.norm(dire)))\n",
    "print(\"%d\\t %f %f\\t %f \\t%f \\n\" %(j,x[0],x[1],fx_curr,LA.norm(dire)))\n",
    "print(\"______________________________________________________________________\\n\")"
   ]
  },
  {
   "cell_type": "code",
   "execution_count": null,
   "metadata": {},
   "outputs": [],
   "source": []
  }
 ],
 "metadata": {
  "kernelspec": {
   "display_name": "Python 3",
   "language": "python",
   "name": "python3"
  },
  "language_info": {
   "codemirror_mode": {
    "name": "ipython",
    "version": 3
   },
   "file_extension": ".py",
   "mimetype": "text/x-python",
   "name": "python",
   "nbconvert_exporter": "python",
   "pygments_lexer": "ipython3",
   "version": "3.8.8"
  }
 },
 "nbformat": 4,
 "nbformat_minor": 4
}
