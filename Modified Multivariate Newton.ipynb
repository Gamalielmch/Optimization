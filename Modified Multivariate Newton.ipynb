{
 "cells": [
  {
   "cell_type": "code",
   "execution_count": 14,
   "metadata": {},
   "outputs": [],
   "source": [
    "def F_U(x):\n",
    "    fx = 100*(np.sqrt(x[0]**2+(x[1]+1)**2)-1)**2 + 90*(np.sqrt(x[0]**2+(x[1]+1)**2)-1)**2 -(20*x[0]+40*x[1])\n",
    "    return fx\n",
    "\n",
    "\n",
    "def Gradient(x,delta):\n",
    "    grad=np.zeros(2)\n",
    "    grad[0]=(F_U([x[0]+delta,x[1]])- F_U([x[0]-delta,x[1]]))/(2*delta)\n",
    "    grad[1]=(F_U([x[0],x[1]+delta])- F_U([x[0],x[1]-delta]))/(2*delta)\n",
    "    return grad\n",
    "\n",
    "\n",
    "\n",
    "def Hessian(x,delta):\n",
    "    H=np.zeros([2,2])\n",
    "    H[0,0]= (F_U([x[0]+delta,x[1]])  - 2*F_U(x) + F_U([x[0]-delta,x[1]]) )/ delta**2;\n",
    "    H[1,1]= (F_U([x[0],x[1]+delta])  - 2*F_U(x) + F_U([x[0],x[1]-delta]) )/ delta**2; \n",
    "    H[0,1]= (F_U([x[0]+delta,x[1]+delta]) - F_U([x[0]+delta,x[1]-delta]) - F_U([x[0]-delta,x[1]+delta]) + F_U([x[0]-delta,x[1]-delta]) )/ (4*(delta**2));\n",
    "    H[1,0]=H[0,1]\n",
    "    return H\n",
    "\n",
    "def GoldenSection(x, search):\n",
    "    a = -5\n",
    "    b = 5\n",
    "    tau = 0.381967\n",
    "    epsilon = 1e-5\n",
    "    alpha1 = a*(1 - tau) + b*tau\n",
    "    alpha2 = a*tau + b*(1 - tau)\n",
    "    falpha1 = F_U(x + alpha1*search)\n",
    "    falpha2 = F_U(x + alpha2*search)\n",
    "    for _ in range(0, 1000):\n",
    "        if falpha1 > falpha2:\n",
    "            a = alpha1\n",
    "            alpha1 = alpha2\n",
    "            falpha1 = falpha2\n",
    "            alpha2 = tau*a + (1 - tau)*b\n",
    "            falpha2 = F_U(x + alpha2*search)\n",
    "        else:\n",
    "            b = alpha2\n",
    "            alpha2  = alpha1\n",
    "            falpha2 = falpha1\n",
    "            alpha1  = tau*b + (1 - tau)*a\n",
    "            falpha1 = F_U(x + alpha1*search)\n",
    "        if abs(F_U(x + alpha1*search) - F_U(x + alpha2*search)) < epsilon:\n",
    "            break\n",
    "    return alpha1, falpha1"
   ]
  },
  {
   "cell_type": "code",
   "execution_count": 24,
   "metadata": {},
   "outputs": [
    {
     "name": "stdout",
     "output_type": "stream",
     "text": [
      "Initial function value = 12.07 \n",
      "Iter o.\t x-vector \tf(x)\t Norm \n",
      "---------------------------------------------------\n",
      "1\t[0.891,-0.220]\t-2.588\t40.539\n",
      "2\t[0.545,0.014]\t-7.118\t33.176\n",
      "3\t[0.505,-0.003]\t-7.352\t12.801\n",
      "------------------------------------------\n"
     ]
    }
   ],
   "source": [
    "import numpy as np\n",
    "import numpy.linalg as la\n",
    "\n",
    "def Modified_Newton_Multivariate(x,ep1,ep2,dx):\n",
    "    f_prev=F_U(x)\n",
    "    print('Initial function value = {0:.2f} '.format(f_prev))\n",
    "    print('Iter o.\\t x-vector \\tf(x)\\t Norm ')\n",
    "    print('---------------------------------------------------')\n",
    "    for i in range(1, 500):\n",
    "        gradient=Gradient(x,dx)\n",
    "        H=Hessian(x,dx) \n",
    "        si=np.matmul(-1*la.inv(H),gradient.transpose())\n",
    "        si = si.transpose()\n",
    "        si=np.ndarray.flatten(si)\n",
    "        alpha,fx_curr = GoldenSection(x,si);\n",
    "        if abs(fx_curr-f_prev)<ep1 or la.norm(gradient)<ep1:\n",
    "            break;\n",
    "        x = x +  alpha*si\n",
    "        #x = x +  1*si\n",
    "        f_prev=fx_curr\n",
    "        print('{0}\\t[{1:.3f},{2:.3f}]\\t{3:.3f}\\t{4:.3f}'.format(i,x[0], x[1],fx_curr,la.norm(gradient)))\n",
    "    print('------------------------------------------')\n",
    "\n",
    "dx=1e-3 \n",
    "ep1=1e-3\n",
    "ep2 = 1e-3\n",
    "x = [-1,1]\n",
    "\n",
    "Modified_Newton_Multivariate(x,ep1,ep2,dx)"
   ]
  },
  {
   "cell_type": "code",
   "execution_count": null,
   "metadata": {},
   "outputs": [],
   "source": []
  }
 ],
 "metadata": {
  "kernelspec": {
   "display_name": "Python 3",
   "language": "python",
   "name": "python3"
  },
  "language_info": {
   "codemirror_mode": {
    "name": "ipython",
    "version": 3
   },
   "file_extension": ".py",
   "mimetype": "text/x-python",
   "name": "python",
   "nbconvert_exporter": "python",
   "pygments_lexer": "ipython3",
   "version": "3.8.5"
  }
 },
 "nbformat": 4,
 "nbformat_minor": 4
}
