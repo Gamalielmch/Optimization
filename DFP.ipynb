{
 "cells": [
  {
   "cell_type": "code",
   "execution_count": 2,
   "metadata": {},
   "outputs": [],
   "source": [
    "import numpy as np\n",
    "import numpy.linalg as la\n",
    "import scipy.optimize as sopt\n",
    "import matplotlib.pyplot as plt\n",
    "from mpl_toolkits.mplot3d import Axes3D\n",
    "from matplotlib import cm\n",
    "from numpy import linalg as LA\n",
    "%matplotlib qt"
   ]
  },
  {
   "cell_type": "code",
   "execution_count": 3,
   "metadata": {},
   "outputs": [],
   "source": [
    "def funcx(x):\n",
    "    fx = 100*(np.sqrt(x[0]**2+(x[1]+1)**2)-1)**2 + 90*(np.sqrt(x[0]**2+(x[1]+1)**2)-1)**2 -(20*x[0]+40*x[1])\n",
    "    return fx"
   ]
  },
  {
   "cell_type": "code",
   "execution_count": 4,
   "metadata": {},
   "outputs": [],
   "source": [
    "def gradient(x,delta):\n",
    "    grad=np.zeros(2)\n",
    "    grad[0]=(funcx([x[0]+delta,x[1]])- funcx([x[0]-delta,x[1]]))/(2*delta)\n",
    "    grad[1]=(funcx([x[0],x[1]+delta])- funcx([x[0],x[1]-delta]))/(2*delta)\n",
    "    return grad"
   ]
  },
  {
   "cell_type": "code",
   "execution_count": 5,
   "metadata": {},
   "outputs": [],
   "source": [
    "def golden(x,search,xi,eps):\n",
    "    a = xi[0];\n",
    "    b = xi[1];\n",
    "    tau = 0.381967;\n",
    "    alpha1 = a*(1-tau) + b*tau;\n",
    "    alpha2 = a*tau + b*(1-tau);\n",
    "    falpha1 = funcx(x+alpha1*search);\n",
    "    falpha2 = funcx(x+alpha2*search);\n",
    "    for i in range(100):\n",
    "        if falpha1 > falpha2:\n",
    "            a = alpha1;\n",
    "            alpha1 = alpha2;\n",
    "            falpha1 = falpha2;\n",
    "            alpha2 = tau*a + (1-tau)*b;\n",
    "            falpha2 = funcx(x+alpha2*search);\n",
    "        else:\n",
    "            b = alpha2;\n",
    "            alpha2 = alpha1;\n",
    "            falpha2 = falpha1;\n",
    "            alpha1 = tau*b + (1-tau)*a;\n",
    "            falpha1 = funcx(x+alpha1*search);\n",
    "\n",
    "        if np.abs(funcx(x+alpha1*search)- funcx(x+alpha2*search)) < eps :\n",
    "            break;\n",
    "    return alpha1,falpha1"
   ]
  },
  {
   "cell_type": "code",
   "execution_count": 6,
   "metadata": {},
   "outputs": [],
   "source": [
    "def hessian(x,delta):\n",
    "    H=np.zeros([2,2])\n",
    "    H[0,0]= ( funcx([x[0]+delta,x[1]])  - 2*funcx(x) + funcx([x[0]-delta,x[1]]) )/ delta**2;\n",
    "    H[1,1]= ( funcx([x[0],x[1]+delta])  - 2*funcx(x) + funcx([x[0],x[1]-delta]) )/ delta**2; \n",
    "    H[0,1]= ( funcx([x[0]+delta,x[1]+delta]) - funcx([x[0]+delta,x[1]-delta]) - funcx([x[0]-delta,x[1]+delta]) + funcx([x[0]-delta,x[1]-delta]) )/ (4*(delta**2));\n",
    "    H[1,0]=H[0,1]\n",
    "    return H"
   ]
  },
  {
   "cell_type": "code",
   "execution_count": 7,
   "metadata": {},
   "outputs": [
    {
     "name": "stdout",
     "output_type": "stream",
     "text": [
      "Initial function value = 270.294169 \n",
      " \n",
      "No. \t \t x-vector \t   f(x) \t Deriv \n",
      "\n",
      "______________________________________________________________________\n",
      "\n",
      "0\t -0.389200 -0.009202\t 8.942496 \t444.315788 \n",
      "\n",
      "[[ 0.00071226 -0.00117684]\n",
      " [-0.00117684  0.00194445]]\n",
      "[[ 0.20394345 -0.40292744]\n",
      " [-0.40292744  0.79605655]]\n",
      "1\t 0.022020 0.198927\t -0.863527 \t33.677247 \n",
      "\n",
      "1\t 0.022020 0.198927\t -0.863527 \t33.677247 \n",
      "\n",
      "______________________________________________________________________\n",
      "\n"
     ]
    }
   ],
   "source": [
    "delta=1e-3\n",
    "ep1=1e-3\n",
    "xi = [-1,1]\n",
    "x = xi\n",
    "A=np.eye(len(x))\n",
    "fx_prev=funcx(x)\n",
    "print(\"Initial function value = %f \\n \" % fx_prev)\n",
    "print(\"No. \\t \\t x-vector \\t   f(x) \\t Deriv \\n\")\n",
    "print(\"______________________________________________________________________\\n\")\n",
    "for j in range(2):\n",
    "    if j==0:\n",
    "        dire_prev=gradient(x,delta)\n",
    "        si_prev = -dire_prev\n",
    "        alpha,fx_prev = golden(x,si_prev,xi,ep1);\n",
    "        \n",
    "        if LA.norm(dire_prev)<ep1:\n",
    "            break\n",
    "        x_c = x +  alpha*si_prev\n",
    "        print(\"%d\\t %f %f\\t %f \\t%f \\n\" %(j,x_c[0],x_c[1],fx_prev,LA.norm(dire_prev)))\n",
    "    else:\n",
    "        deltax=x_c-x\n",
    "        dire_c=gradient(x_c,delta)\n",
    "        deltag=dire_c-dire_prev\n",
    "        ter1= np.matmul(np.atleast_2d(deltax).transpose(),np.atleast_2d(deltax) ) /    np.matmul(deltax,deltag.transpose() )\n",
    "        ter2= np.matmul(np.matmul(np.matmul(A, np.atleast_2d(deltag).transpose()), np.atleast_2d(deltag)),A) / np.matmul(np.matmul(np.atleast_2d(deltag),A ), np.atleast_2d(deltag).transpose())\n",
    "        print(ter1)\n",
    "        print(ter2)\n",
    "        A = A + ter1 - ter2;\n",
    "        si=np.matmul(-A,dire_c.transpose())\n",
    "        si=np.ndarray.flatten(si.transpose())\n",
    "        alpha,fx_curr = golden(x_c[:],si,xi,ep1)\n",
    "        \n",
    "        if abs(fx_curr-fx_prev)<ep1 or LA.norm(dire_c)<ep1:\n",
    "            break\n",
    "        fx_prev=fx_curr\n",
    "        dire_prev=dire_c\n",
    "        x=x_c\n",
    "        x_c = x +  alpha*si\n",
    "        print(\"%d\\t %f %f\\t %f \\t%f \\n\" %(j,x_c[0],x_c[1],fx_curr,LA.norm(dire_c)))\n",
    "#         si = - dire +((LA.norm(dire)**2)/(LA.norm(dire_prev)**2))*si_prev;\n",
    "#         alpha,fx_curr = golden(x,si,xi,ep1);\n",
    "#         if abs(fx_curr-fx_prev)<ep1 or LA.norm(dire)<ep1:\n",
    "#             break;\n",
    "#         dire_prev=dire\n",
    "#         si_prev=si\n",
    "#         x = x +  (alpha*si).transpose() \n",
    "#         fx_prev=funcx(x)\n",
    "    \n",
    "#     print(\"%d\\t %f %f\\t %f \\t%f \\n\" %(j,x[0],x[1],fx_prev,LA.norm(dire)))\n",
    "print(\"%d\\t %f %f\\t %f \\t%f \\n\" %(j,x_c[0],x_c[1],fx_curr,LA.norm(dire_c)))\n",
    "print(\"______________________________________________________________________\\n\")    "
   ]
  },
  {
   "cell_type": "code",
   "execution_count": null,
   "metadata": {},
   "outputs": [],
   "source": []
  }
 ],
 "metadata": {
  "kernelspec": {
   "display_name": "Python 3",
   "language": "python",
   "name": "python3"
  },
  "language_info": {
   "codemirror_mode": {
    "name": "ipython",
    "version": 3
   },
   "file_extension": ".py",
   "mimetype": "text/x-python",
   "name": "python",
   "nbconvert_exporter": "python",
   "pygments_lexer": "ipython3",
   "version": "3.8.5"
  }
 },
 "nbformat": 4,
 "nbformat_minor": 4
}
