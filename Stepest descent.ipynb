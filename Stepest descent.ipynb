{
 "cells": [
  {
   "cell_type": "code",
   "execution_count": 4,
   "metadata": {},
   "outputs": [],
   "source": [
    "\n",
    "import numpy as np\n",
    "import numpy.linalg as la\n",
    "\n",
    "\n",
    "def F_U(x):\n",
    "    fx = 100*(np.sqrt(x[0]**2+(x[1]+1)**2)-1)**2 + 90*(np.sqrt(x[0]**2+(x[1]+1)**2)-1)**2 -(20*x[0]+40*x[1])\n",
    "    return fx\n",
    "\n",
    "\n",
    "\n",
    "def gradient(x,delta):\n",
    "    grad=np.zeros(2)\n",
    "    grad[0]=(F_U([x[0]+delta,x[1]])- F_U([x[0]-delta,x[1]]))/(2*delta)\n",
    "    grad[1]=(F_U([x[0],x[1]+delta])- F_U([x[0],x[1]-delta]))/(2*delta)\n",
    "    return grad\n",
    "\n",
    "\n",
    "def GoldenSection(x, search):\n",
    "    a = -5\n",
    "    b = 5\n",
    "    tau = 0.381967\n",
    "    epsilon = 1e-5\n",
    "    alpha1 = a*(1 - tau) + b*tau\n",
    "    alpha2 = a*tau + b*(1 - tau)\n",
    "    falpha1 = F_U(x + alpha1*search)\n",
    "    falpha2 = F_U(x + alpha2*search)\n",
    "    for _ in range(0, 1000):\n",
    "        if falpha1 > falpha2:\n",
    "            a = alpha1\n",
    "            alpha1 = alpha2\n",
    "            falpha1 = falpha2\n",
    "            alpha2 = tau*a + (1 - tau)*b\n",
    "            falpha2 = F_U(x + alpha2*search)\n",
    "        else:\n",
    "            b = alpha2\n",
    "            alpha2  = alpha1\n",
    "            falpha2 = falpha1\n",
    "            alpha1  = tau*b + (1 - tau)*a\n",
    "            falpha1 = F_U(x + alpha1*search)\n",
    "        if abs(F_U(x + alpha1*search) - F_U(x + alpha2*search)) < epsilon:\n",
    "            break\n",
    "    return alpha1, falpha1"
   ]
  },
  {
   "cell_type": "code",
   "execution_count": 5,
   "metadata": {},
   "outputs": [],
   "source": [
    "\n",
    "def StepestDescent(x,ep1,dx):\n",
    "    \n",
    "    falpha_prev = F_U(x)\n",
    "    print('Initial function value = {0:.3f} '.format(falpha_prev))\n",
    "    print('Iter o.\\t x-vector \\tf(x)\\t Deriv ')\n",
    "    print('------------------------------------------')\n",
    "    for i in range(0, 3000):\n",
    "        grad = gradient(x,dx)\n",
    "        Si = -grad\n",
    "        \n",
    "        alpha, falpha = GoldenSection(x, Si)\n",
    "        if np.abs(falpha - falpha_prev) < ep1 or la.norm(grad) < ep1:\n",
    "            break\n",
    "        falpha_prev = falpha\n",
    "        x = x + alpha*Si\n",
    "        print('{0}\\t[{1:.3f},{2:.3f}]\\t{3:.3f}\\t{4:.3f}'.format(i,x[0], x[1],falpha,la.norm(grad)))\n",
    "    print('------------------------------------------')"
   ]
  },
  {
   "cell_type": "code",
   "execution_count": 6,
   "metadata": {
    "scrolled": false
   },
   "outputs": [
    {
     "name": "stdout",
     "output_type": "stream",
     "text": [
      "Initial function value = 270.294 \n",
      "Iter o.\t x-vector \tf(x)\t Deriv \n",
      "------------------------------------------\n",
      "0\t[-0.390,-0.008]\t8.943\t444.316\n",
      "1\t[-0.025,0.203]\t0.231\t33.627\n",
      "2\t[0.049,0.076]\t-2.883\t43.030\n",
      "3\t[0.169,0.145]\t-4.465\t21.581\n",
      "4\t[0.216,0.065]\t-5.490\t22.351\n",
      "5\t[0.284,0.104]\t-6.116\t15.581\n",
      "6\t[0.317,0.048]\t-6.546\t13.376\n",
      "7\t[0.359,0.072]\t-6.821\t11.081\n",
      "8\t[0.382,0.033]\t-7.009\t8.318\n",
      "9\t[0.409,0.049]\t-7.130\t7.680\n",
      "10\t[0.425,0.022]\t-7.210\t5.210\n",
      "11\t[0.442,0.032]\t-7.262\t5.116\n",
      "12\t[0.453,0.014]\t-7.295\t3.252\n",
      "13\t[0.464,0.020]\t-7.317\t3.359\n",
      "14\t[0.470,0.009]\t-7.330\t2.030\n",
      "15\t[0.477,0.013]\t-7.339\t2.097\n",
      "16\t[0.481,0.006]\t-7.344\t1.241\n",
      "17\t[0.486,0.008]\t-7.347\t1.240\n",
      "18\t[0.488,0.004]\t-7.349\t0.807\n",
      "19\t[0.491,0.005]\t-7.351\t0.789\n",
      "20\t[0.493,0.002]\t-7.352\t0.486\n",
      "21\t[0.494,0.003]\t-7.352\t0.536\n",
      "22\t[0.496,0.001]\t-7.353\t0.278\n",
      "23\t[0.497,0.001]\t-7.353\t0.365\n",
      "24\t[0.499,0.000]\t-7.353\t0.129\n",
      "------------------------------------------\n"
     ]
    }
   ],
   "source": [
    "x = [-1,1]\n",
    "ep1 = 1e-5\n",
    "dx = 1e-3\n",
    "StepestDescent(x,ep1,dx)"
   ]
  },
  {
   "cell_type": "code",
   "execution_count": null,
   "metadata": {},
   "outputs": [],
   "source": []
  },
  {
   "cell_type": "code",
   "execution_count": null,
   "metadata": {},
   "outputs": [],
   "source": []
  }
 ],
 "metadata": {
  "kernelspec": {
   "display_name": "Python 3",
   "language": "python",
   "name": "python3"
  },
  "language_info": {
   "codemirror_mode": {
    "name": "ipython",
    "version": 3
   },
   "file_extension": ".py",
   "mimetype": "text/x-python",
   "name": "python",
   "nbconvert_exporter": "python",
   "pygments_lexer": "ipython3",
   "version": "3.7.3"
  }
 },
 "nbformat": 4,
 "nbformat_minor": 2
}
