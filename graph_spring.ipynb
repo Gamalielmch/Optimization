{
 "cells": [
  {
   "cell_type": "code",
   "execution_count": 15,
   "metadata": {},
   "outputs": [],
   "source": [
    "import numpy as np\n",
    "import numpy.linalg as la\n",
    "import scipy.optimize as sopt\n",
    "import matplotlib.pyplot as plt\n",
    "from mpl_toolkits.mplot3d import Axes3D\n",
    "from matplotlib import cm\n",
    "%matplotlib qt"
   ]
  },
  {
   "cell_type": "code",
   "execution_count": 16,
   "metadata": {},
   "outputs": [],
   "source": [
    "U_a =lambda x1,x2:  100* (np.sqrt(x1**2 +(x2+1)**2) -1 )**2  +  90*(np.sqrt(x1**2 + (x2+1)**2)-1)**2 - (20*x1+40*x2)\n",
    "U_b =lambda x:  100* (np.sqrt(x[0]**2 +(x[1]+1)**2) -1 )**2  +  90*(np.sqrt(x[0]**2 + (x[1]+1)**2)-1)**2 - (20*x[0]+40*x[1])"
   ]
  },
  {
   "cell_type": "code",
   "execution_count": 17,
   "metadata": {},
   "outputs": [
    {
     "name": "stdout",
     "output_type": "stream",
     "text": [
      "-7.352920565984244 0.49900000000000144 8.881784197001252e-16\n"
     ]
    }
   ],
   "source": [
    "mini=10000000\n",
    "x1min=0\n",
    "x2min=0\n",
    "x1 = np.arange(-1, 1, 0.001)\n",
    "x2 = np.arange(-1, 1, 0.001)\n",
    "for i in range(len(x1)):\n",
    "    for j in range(len(x2)):\n",
    "        if U_a(x1[i],x2[j])<mini:\n",
    "            mini=U_a(x1[i],x2[j])\n",
    "            x1min=x1[i]\n",
    "            x2min=x2[j]\n",
    "            \n",
    "print(mini,x1min,x2min)        "
   ]
  },
  {
   "cell_type": "code",
   "execution_count": 18,
   "metadata": {},
   "outputs": [],
   "source": [
    "X = np.arange(-1, 1, 0.01)\n",
    "xlen = len(X)\n",
    "Y = np.arange(-1, 1, 0.01)\n",
    "ylen = len(Y)\n",
    "X, Y = np.meshgrid(X, Y)\n",
    "Fx=U_a(X,Y)\n",
    "fig = plt.figure()\n",
    "ax = fig.gca(projection='3d')\n",
    "surf = ax.plot_surface(X, Y, Fx, cmap=plt.cm.RdYlGn,\n",
    "                       linewidth=0, antialiased=False)\n",
    "ax.scatter(x1min, x2min , mini)\n",
    "plt.show()"
   ]
  },
  {
   "cell_type": "code",
   "execution_count": null,
   "metadata": {},
   "outputs": [],
   "source": []
  }
 ],
 "metadata": {
  "kernelspec": {
   "display_name": "Python 3",
   "language": "python",
   "name": "python3"
  },
  "language_info": {
   "codemirror_mode": {
    "name": "ipython",
    "version": 3
   },
   "file_extension": ".py",
   "mimetype": "text/x-python",
   "name": "python",
   "nbconvert_exporter": "python",
   "pygments_lexer": "ipython3",
   "version": "3.8.8"
  }
 },
 "nbformat": 4,
 "nbformat_minor": 4
}
