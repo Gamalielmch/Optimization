{
 "cells": [
  {
   "cell_type": "code",
   "execution_count": 1,
   "metadata": {},
   "outputs": [],
   "source": [
    "import numpy as np\n",
    "import numpy.linalg as la"
   ]
  },
  {
   "cell_type": "code",
   "execution_count": 2,
   "metadata": {},
   "outputs": [],
   "source": [
    "def funcx(x):\n",
    "    fx = 100*(np.sqrt(x[0]**2+(x[1]+1)**2)-1)**2 + 90*(np.sqrt(x[0]**2+(x[1]+1)**2)-1)**2 -(20*x[0]+40*x[1])  \n",
    "    return fx"
   ]
  },
  {
   "cell_type": "code",
   "execution_count": 3,
   "metadata": {},
   "outputs": [],
   "source": [
    "def gradient(x,delta):\n",
    "    grad=np.zeros(2)\n",
    "    grad[0]=(funcx([x[0]+delta,x[1]])- funcx([x[0]-delta,x[1]]))/(2*delta)\n",
    "    grad[1]=(funcx([x[0],x[1]+delta])- funcx([x[0],x[1]-delta]))/(2*delta)\n",
    "    return grad"
   ]
  },
  {
   "cell_type": "code",
   "execution_count": 4,
   "metadata": {},
   "outputs": [],
   "source": [
    "def golden(x,search,xi,eps):\n",
    "    a = xi[0];\n",
    "    b = xi[1];\n",
    "    tau = 0.381967;\n",
    "    alpha1 = a*(1-tau) + b*tau;\n",
    "    alpha2 = a*tau + b*(1-tau);\n",
    "    falpha1 = funcx(x+alpha1*search);\n",
    "    falpha2 = funcx(x+alpha2*search);\n",
    "    for i in range(100):\n",
    "        if falpha1 > falpha2:\n",
    "            a = alpha1;\n",
    "            alpha1 = alpha2;\n",
    "            falpha1 = falpha2;\n",
    "            alpha2 = tau*a + (1-tau)*b;\n",
    "            falpha2 = funcx(x+alpha2*search);\n",
    "        else:\n",
    "            b = alpha2;\n",
    "            alpha2 = alpha1;\n",
    "            falpha2 = falpha1;\n",
    "            alpha1 = tau*b + (1-tau)*a;\n",
    "            falpha1 = funcx(x+alpha1*search);\n",
    "\n",
    "        if np.abs(funcx(x+alpha1*search)- funcx(x+alpha2*search)) < eps :\n",
    "            break;\n",
    "    return alpha1,falpha1"
   ]
  },
  {
   "cell_type": "code",
   "execution_count": 8,
   "metadata": {},
   "outputs": [
    {
     "name": "stdout",
     "output_type": "stream",
     "text": [
      "Initial function value = 8.942496 \n",
      " \n",
      "No. \t \t x-vector \t   f(x) \t Norm Grad \n",
      "\n",
      "______________________________________________________________________\n",
      "\n",
      "[[  77.20681272 -152.53612143]\n",
      " [-152.53612143  301.36289169]]\n",
      "[[-0.2680985   0.44296918]\n",
      " [ 0.44296918 -0.7319015 ]]\n",
      "[[30.15285988]\n",
      " [15.26113408]]\n"
     ]
    },
    {
     "ename": "NameError",
     "evalue": "name 'dire_c' is not defined",
     "output_type": "error",
     "traceback": [
      "\u001b[1;31m---------------------------------------------------------------------------\u001b[0m",
      "\u001b[1;31mNameError\u001b[0m                                 Traceback (most recent call last)",
      "\u001b[1;32m<ipython-input-8-624e156c78f2>\u001b[0m in \u001b[0;36m<module>\u001b[1;34m\u001b[0m\n\u001b[0;32m     39\u001b[0m     \u001b[1;32mif\u001b[0m \u001b[0mabs\u001b[0m\u001b[1;33m(\u001b[0m\u001b[0mfx_curr\u001b[0m\u001b[1;33m-\u001b[0m\u001b[0mfx_prev\u001b[0m\u001b[1;33m)\u001b[0m\u001b[1;33m<\u001b[0m\u001b[0mep1\u001b[0m \u001b[1;32mor\u001b[0m \u001b[0mla\u001b[0m\u001b[1;33m.\u001b[0m\u001b[0mnorm\u001b[0m\u001b[1;33m(\u001b[0m\u001b[0mgrad_c\u001b[0m\u001b[1;33m)\u001b[0m\u001b[1;33m<\u001b[0m\u001b[0mep1\u001b[0m\u001b[1;33m:\u001b[0m\u001b[1;33m\u001b[0m\u001b[1;33m\u001b[0m\u001b[0m\n\u001b[0;32m     40\u001b[0m         \u001b[1;32mbreak\u001b[0m\u001b[1;33m;\u001b[0m\u001b[1;33m\u001b[0m\u001b[1;33m\u001b[0m\u001b[0m\n\u001b[1;32m---> 41\u001b[1;33m     \u001b[0mprint\u001b[0m\u001b[1;33m(\u001b[0m\u001b[1;34m\"%d\\t %f %f\\t %f \\t%f \\n\"\u001b[0m \u001b[1;33m%\u001b[0m\u001b[1;33m(\u001b[0m\u001b[0mj\u001b[0m\u001b[1;33m,\u001b[0m\u001b[0mx_c\u001b[0m\u001b[1;33m[\u001b[0m\u001b[1;36m0\u001b[0m\u001b[1;33m]\u001b[0m\u001b[1;33m,\u001b[0m\u001b[0mx_c\u001b[0m\u001b[1;33m[\u001b[0m\u001b[1;36m1\u001b[0m\u001b[1;33m]\u001b[0m\u001b[1;33m,\u001b[0m\u001b[0mfx_curr\u001b[0m\u001b[1;33m,\u001b[0m\u001b[0mla\u001b[0m\u001b[1;33m.\u001b[0m\u001b[0mnorm\u001b[0m\u001b[1;33m(\u001b[0m\u001b[0mdire_c\u001b[0m\u001b[1;33m)\u001b[0m\u001b[1;33m)\u001b[0m\u001b[1;33m)\u001b[0m\u001b[1;33m\u001b[0m\u001b[1;33m\u001b[0m\u001b[0m\n\u001b[0m\u001b[0;32m     42\u001b[0m \u001b[0mprint\u001b[0m\u001b[1;33m(\u001b[0m\u001b[1;34m\"______________________________________________________________________\\n\"\u001b[0m\u001b[1;33m)\u001b[0m\u001b[1;33m\u001b[0m\u001b[1;33m\u001b[0m\u001b[0m\n\u001b[0;32m     43\u001b[0m \u001b[0mprint\u001b[0m\u001b[1;33m(\u001b[0m\u001b[1;34m\"%d\\t %f %f\\t %f \\t%f \\n\"\u001b[0m \u001b[1;33m%\u001b[0m\u001b[1;33m(\u001b[0m\u001b[0mj\u001b[0m\u001b[1;33m,\u001b[0m\u001b[0mx_c\u001b[0m\u001b[1;33m[\u001b[0m\u001b[1;36m0\u001b[0m\u001b[1;33m]\u001b[0m\u001b[1;33m,\u001b[0m\u001b[0mx_c\u001b[0m\u001b[1;33m[\u001b[0m\u001b[1;36m1\u001b[0m\u001b[1;33m]\u001b[0m\u001b[1;33m,\u001b[0m\u001b[0mfx_curr\u001b[0m\u001b[1;33m,\u001b[0m\u001b[0mla\u001b[0m\u001b[1;33m.\u001b[0m\u001b[0mnorm\u001b[0m\u001b[1;33m(\u001b[0m\u001b[0mdire_c\u001b[0m\u001b[1;33m)\u001b[0m\u001b[1;33m)\u001b[0m\u001b[1;33m)\u001b[0m\u001b[1;33m\u001b[0m\u001b[1;33m\u001b[0m\u001b[0m\n",
      "\u001b[1;31mNameError\u001b[0m: name 'dire_c' is not defined"
     ]
    }
   ],
   "source": [
    "# Initialitazion \n",
    "delta=1e-3; \n",
    "ep1=1e-3; \n",
    "xi = [-1,1];\n",
    "x = xi;\n",
    "A=np.eye(len(x))\n",
    "fx_prev=funcx(x)\n",
    "\n",
    "#new point estimated by gradient\n",
    "grad_p=gradient(x,delta)\n",
    "Si = -grad_p;\n",
    "alpha,fx_prev = golden(x,Si,xi,ep1)\n",
    "x_c = x + alpha*Si\n",
    "x_c = np.reshape(x_c,(2,1))\n",
    "x = np.reshape(x,(2,1))\n",
    "grad_p = np.reshape(grad_p,(2,1))\n",
    "Si = np.reshape(Si,(2,1))\n",
    "\n",
    "print(\"Initial function value = %f \\n \" % fx_prev)\n",
    "print(\"No. \\t \\t x-vector \\t   f(x) \\t Norm Grad \\n\")\n",
    "print(\"______________________________________________________________________\\n\")\n",
    "for j in range(1):\n",
    "    deltax=x_c-x\n",
    "    grad_c=gradient(x_c,delta)\n",
    "    grad_c=np.reshape(grad_c,(2,1))\n",
    "    deltag=grad_c-grad_p\n",
    "    term_1= np.matmul(deltag,deltag.transpose())/  ( np.matmul(deltag.transpose(),deltax))\n",
    "    term_2= np.matmul(grad_p,grad_p.transpose())/  ( np.matmul(grad_p.transpose(),Si))\n",
    "    print(term_1)\n",
    "    print(term_2)\n",
    "    A = A + term_1 + term_2\n",
    "    Si=np.matmul(-1*la.inv(A),grad_c)\n",
    "    alpha,fx_curr = golden(x_c,Si,xi,ep1);\n",
    "    fx_prev=funcx(x)\n",
    "    grad_p=grad_c\n",
    "    x=x_c\n",
    "    x_c= x +  alpha*Si\n",
    "    print(Si)\n",
    "    if abs(fx_curr-fx_prev)<ep1 or la.norm(grad_c)<ep1:\n",
    "        break; \n",
    "    print(\"%d\\t %f %f\\t %f \\t%f \\n\" %(j,x_c[0],x_c[1],fx_curr,la.norm(dire_c)))\n",
    "print(\"______________________________________________________________________\\n\") \n",
    "print(\"%d\\t %f %f\\t %f \\t%f \\n\" %(j,x_c[0],x_c[1],fx_curr,la.norm(dire_c)))\n"
   ]
  },
  {
   "cell_type": "code",
   "execution_count": null,
   "metadata": {},
   "outputs": [],
   "source": []
  }
 ],
 "metadata": {
  "kernelspec": {
   "display_name": "Python 3",
   "language": "python",
   "name": "python3"
  },
  "language_info": {
   "codemirror_mode": {
    "name": "ipython",
    "version": 3
   },
   "file_extension": ".py",
   "mimetype": "text/x-python",
   "name": "python",
   "nbconvert_exporter": "python",
   "pygments_lexer": "ipython3",
   "version": "3.8.5"
  }
 },
 "nbformat": 4,
 "nbformat_minor": 4
}
