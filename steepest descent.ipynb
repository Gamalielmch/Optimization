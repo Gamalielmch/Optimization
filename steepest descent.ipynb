{
 "cells": [
  {
   "cell_type": "code",
   "execution_count": 1,
   "metadata": {},
   "outputs": [],
   "source": [
    "import numpy as np\n",
    "import numpy.linalg as la\n",
    "import scipy.optimize as sopt\n",
    "import matplotlib.pyplot as plt\n",
    "from mpl_toolkits.mplot3d import Axes3D\n",
    "from matplotlib import cm\n",
    "from numpy import linalg as LA\n",
    "%matplotlib qt"
   ]
  },
  {
   "cell_type": "code",
   "execution_count": 2,
   "metadata": {},
   "outputs": [],
   "source": [
    "def funcx(x):\n",
    "    fx = 100*(np.sqrt(x[0]**2+(x[1]+1)**2)-1)**2 + 90*(np.sqrt(x[0]**2+(x[1]+1)**2)-1)**2 -(20*x[0]+40*x[1])\n",
    "    return fx"
   ]
  },
  {
   "cell_type": "code",
   "execution_count": 3,
   "metadata": {},
   "outputs": [],
   "source": [
    "def gradient(x,delta):\n",
    "    grad=np.zeros(2)\n",
    "    grad[0]=(funcx([x[0]+delta,x[1]])- funcx([x[0]-delta,x[1]]))/(2*delta)\n",
    "    grad[1]=(funcx([x[0],x[1]+delta])- funcx([x[0],x[1]-delta]))/(2*delta)\n",
    "    return grad"
   ]
  },
  {
   "cell_type": "code",
   "execution_count": 4,
   "metadata": {},
   "outputs": [],
   "source": [
    "def golden(x,search,xi,eps):\n",
    "    a = xi[0];\n",
    "    b = xi[1];\n",
    "    tau = 0.381967;\n",
    "    alpha1 = a*(1-tau) + b*tau;\n",
    "    alpha2 = a*tau + b*(1-tau);\n",
    "    falpha1 = funcx(x+alpha1*search);\n",
    "    falpha2 = funcx(x+alpha2*search);\n",
    "    for i in range(100):\n",
    "        if falpha1 > falpha2:\n",
    "            a = alpha1;\n",
    "            alpha1 = alpha2;\n",
    "            falpha1 = falpha2;\n",
    "            alpha2 = tau*a + (1-tau)*b;\n",
    "            falpha2 = funcx(x+alpha2*search);\n",
    "        else:\n",
    "            b = alpha2;\n",
    "            alpha2 = alpha1;\n",
    "            falpha2 = falpha1;\n",
    "            alpha1 = tau*b + (1-tau)*a;\n",
    "            falpha1 = funcx(x+alpha1*search);\n",
    "\n",
    "        if np.abs(funcx(x+alpha1*search)- funcx(x+alpha2*search)) < eps :\n",
    "            break;\n",
    "    return alpha1,falpha1\n",
    "        "
   ]
  },
  {
   "cell_type": "code",
   "execution_count": 5,
   "metadata": {},
   "outputs": [
    {
     "name": "stdout",
     "output_type": "stream",
     "text": [
      "Initial function value = 270.294169 \n",
      " \n",
      "No. \t \t x-vector \t   f(x) \t Deriv \n",
      "\n",
      "______________________________________________________________________\n",
      "\n",
      "0\t -0.389200 -0.009202\t 8.942496 \t444.315788 \n",
      "\n",
      "1\t -0.034491 0.201306\t 0.375068 \t33.677247 \n",
      "\n",
      "2\t 0.041044 0.076601\t -2.747168 \t42.852107 \n",
      "\n",
      "3\t 0.161564 0.144368\t -4.398948 \t21.659658 \n",
      "\n",
      "4\t 0.212688 0.063326\t -5.433731 \t21.981252 \n",
      "\n",
      "5\t 0.278290 0.104261\t -6.076443 \t16.160626 \n",
      "\n",
      "6\t 0.314794 0.047078\t -6.522434 \t13.216978 \n",
      "\n",
      "7\t 0.354041 0.071226\t -6.806411 \t11.487999 \n",
      "\n",
      "8\t 0.386757 0.027745\t -7.016161 \t7.835108 \n",
      "\n",
      "9\t 0.410465 0.045373\t -7.146436 \t8.560423 \n",
      "\n",
      "10\t 0.434921 0.015670\t -7.235581 \t4.574148 \n",
      "\n",
      "11\t 0.448310 0.026120\t -7.285087 \t5.470870 \n",
      "\n",
      "12\t 0.469090 0.006143\t -7.323449 \t2.465616 \n",
      "\n",
      "13\t 0.476285 0.012579\t -7.338216 \t3.109726 \n",
      "\n",
      "14\t 0.483297 0.004007\t -7.345106 \t1.188522 \n",
      "\n",
      "15\t 0.486915 0.006717\t -7.348545 \t1.456160 \n",
      "\n",
      "16\t 0.492553 0.000604\t -7.350861 \t0.632125 \n",
      "\n"
     ]
    }
   ],
   "source": [
    "delta=1e-3; \n",
    "ep1=1e-3; \n",
    "xi = [-1,1];\n",
    "x = xi;\n",
    "fx_prev=funcx(x);\n",
    "print(\"Initial function value = %f \\n \" % fx_prev)\n",
    "print(\"No. \\t \\t x-vector \\t   f(x) \\t Deriv \\n\")\n",
    "print(\"______________________________________________________________________\\n\")\n",
    "for j in range(30):\n",
    "    dire=gradient(x,delta)\n",
    "    si=-dire\n",
    "    alpha,fx_curr = golden(x,si,xi,ep1);\n",
    "    if abs(fx_curr-fx_prev)<ep1 or LA.norm(dire)<ep1:\n",
    "        break;\n",
    "    fx_prev = fx_curr;\n",
    "    x = x + alpha*si;\n",
    "    print(\"%d\\t %f %f\\t %f \\t%f \\n\" %(j,x[0],x[1],fx_curr,LA.norm(dire)))"
   ]
  },
  {
   "cell_type": "code",
   "execution_count": null,
   "metadata": {},
   "outputs": [],
   "source": []
  }
 ],
 "metadata": {
  "kernelspec": {
   "display_name": "Python 3",
   "language": "python",
   "name": "python3"
  },
  "language_info": {
   "codemirror_mode": {
    "name": "ipython",
    "version": 3
   },
   "file_extension": ".py",
   "mimetype": "text/x-python",
   "name": "python",
   "nbconvert_exporter": "python",
   "pygments_lexer": "ipython3",
   "version": "3.7.4"
  }
 },
 "nbformat": 4,
 "nbformat_minor": 4
}
