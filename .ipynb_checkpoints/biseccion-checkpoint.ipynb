{
 "cells": [
  {
   "cell_type": "markdown",
   "metadata": {},
   "source": [
    "## Método de la bisección 1D \n",
    "Sabemos que un máximo o mínimo de una función esta donde $f'(x) = 0$. Debido a que la función es convexa (unimodal), la derivada tiende a cero conforme se acerca al mínimo global.\n",
    "\n",
    "<img src=\"img/im1.jpg\" alt=\"drawing\" width=\"300\"/>\n",
    "\n",
    "Este método consiste en eliminar regiones. Se tiene los límites de la función $a$ y $b$, después se calcula un punto $\\alpha$ el cual es la mitad de $a$ y $b$ y se evalúa la derivada en el punto $\\alpha$ y se define cual región debe ser eliminada. La región elimiada debe ser la que no contiene el mínimo y eso se sabe por que hay un cambio de signo de la derivada. Matemáticamente se define como $f'(a)f'(\\alpha)<0$ o también $f'(b)f'(\\alpha)<0$ y los nuevos limites serán $a$ y $b=\\alpha$ o $a=\\alpha$ y $b$ \n",
    "\n",
    "<img src=\"img/im2.jpg\" alt=\"drawing\" width=\"300\"/>\n"
   ]
  },
  {
   "cell_type": "code",
   "execution_count": 2,
   "metadata": {},
   "outputs": [],
   "source": [
    "from matplotlib import pyplot as plt\n",
    "import numpy as np \n",
    "from time import time"
   ]
  },
  {
   "cell_type": "code",
   "execution_count": 3,
   "metadata": {},
   "outputs": [
    {
     "name": "stdout",
     "output_type": "stream",
     "text": [
      "Tiempo transcurrido: 0.967503 ms.\n",
      "x: 55.083504\n",
      "fx: 1225.165637\n",
      "f'x: 0.000016\n",
      "iteraciones: 18\n"
     ]
    }
   ],
   "source": [
    "f_a =lambda t:((204165.5)/(330-2*t))+(10400/(t-20))\n",
    "dx = lambda x, delta: (f_a(x+delta)-f_a(x))/delta\n",
    "\n",
    "xl = 40\n",
    "xu = 90\n",
    "epsilon = 0.001\n",
    "delta = epsilon\n",
    "start_time = time()\n",
    "\n",
    "for x in range(1,5000):\n",
    "    alpha = xl+(xu-xl)/2\n",
    "    fpx= dx(alpha,delta)\n",
    "    if  dx(xl,delta)*fpx<0:\n",
    "        xu = alpha\n",
    "    else:\n",
    "        xl = alpha\n",
    "    if abs(fpx)<epsilon:\n",
    "        break\n",
    "\n",
    "  \n",
    "elapsed_time = time() - start_time\n",
    "elapsed_time = elapsed_time*1000\n",
    "print(\"Tiempo transcurrido: %f ms.\" % elapsed_time )\n",
    "print(\"x: %f\" % alpha)\n",
    "print(\"fx: %f\" % f_a(alpha))\n",
    "print(\"f'x: %f\" % dx(alpha,delta))\n",
    "print(\"iteraciones: %d\" % x)\n",
    "\n",
    "\n",
    "#tarea metodo de la secante \n",
    "#gradient-based methods"
   ]
  },
  {
   "cell_type": "code",
   "execution_count": null,
   "metadata": {},
   "outputs": [],
   "source": []
  }
 ],
 "metadata": {
  "kernelspec": {
   "display_name": "Python 3",
   "language": "python",
   "name": "python3"
  },
  "language_info": {
   "codemirror_mode": {
    "name": "ipython",
    "version": 3
   },
   "file_extension": ".py",
   "mimetype": "text/x-python",
   "name": "python",
   "nbconvert_exporter": "python",
   "pygments_lexer": "ipython3",
   "version": "3.8.8"
  }
 },
 "nbformat": 4,
 "nbformat_minor": 4
}
