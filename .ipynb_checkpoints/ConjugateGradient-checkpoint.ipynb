{
 "cells": [
  {
   "cell_type": "code",
   "execution_count": 63,
   "metadata": {},
   "outputs": [],
   "source": [
    "def F_U(x):\n",
    "    fx = 100*(np.sqrt(x[0]**2+(x[1]+1)**2)-1)**2 + 90*(np.sqrt(x[0]**2+(x[1]+1)**2)-1)**2 -(20*x[0]+40*x[1])\n",
    "    return fx\n",
    "\n",
    "def Gradient(x,delta):\n",
    "    grad=np.zeros(2)\n",
    "    grad[0]=(F_U([x[0]+delta,x[1]])- F_U([x[0]-delta,x[1]]))/(2*delta)\n",
    "    grad[1]=(F_U([x[0],x[1]+delta])- F_U([x[0],x[1]-delta]))/(2*delta)\n",
    "    return grad\n",
    "\n",
    "\n",
    "def GoldenSection(x, search,epsilon):\n",
    "    a = -1\n",
    "    b = 1\n",
    "    tau = 0.381967\n",
    "    alpha1 = a*(1 - tau) + b*tau\n",
    "    alpha2 = a*tau + b*(1 - tau)\n",
    "    falpha1 = F_U(x + alpha1*search)\n",
    "    falpha2 = F_U(x + alpha2*search)\n",
    "    for _ in range(0, 1000):\n",
    "        if falpha1 > falpha2:\n",
    "            a = alpha1\n",
    "            alpha1 = alpha2\n",
    "            falpha1 = falpha2\n",
    "            alpha2 = tau*a + (1 - tau)*b\n",
    "            falpha2 = F_U(x + alpha2*search)\n",
    "        else:\n",
    "            b = alpha2\n",
    "            alpha2  = alpha1\n",
    "            falpha2 = falpha1\n",
    "            alpha1  = tau*b + (1 - tau)*a\n",
    "            falpha1 = F_U(x + alpha1*search)\n",
    "        if abs(F_U(x + alpha1*search) - F_U(x + alpha2*search)) < epsilon:\n",
    "            break\n",
    "    return alpha1, falpha1"
   ]
  },
  {
   "cell_type": "code",
   "execution_count": 64,
   "metadata": {},
   "outputs": [],
   "source": [
    "import numpy as np\n",
    "import numpy.linalg as la\n",
    "\n",
    "def ConjugateGradient(x,ep1,ep2,delta):\n",
    "    f_prev=F_U(x)\n",
    "    \n",
    "    print('Initial function value = {0:.2f} '.format(f_prev))\n",
    "    print('Iter o.\\t x-vector \\tf(x)\\t Norm ')\n",
    "    print('---------------------------------------------------')\n",
    "    print('---------------------------------------------------')\n",
    "    \n",
    "    for i in range(30):\n",
    "        if i==0:\n",
    "            dire_prev=Gradient(x,delta)\n",
    "            si_prev = -dire_prev\n",
    "            alpha,fx_prev = GoldenSection(x,si_prev,ep1);\n",
    "        \n",
    "            if la.norm(dire_prev)<ep1:\n",
    "                break\n",
    "            x = x +  alpha*si_prev \n",
    "        else:\n",
    "            dire=Gradient(x,delta)\n",
    "            si = - dire +((la.norm(dire)**2)/(la.norm(dire_prev)**2))*si_prev;\n",
    "            alpha,fx_curr = GoldenSection(x,si,ep2);\n",
    "            if abs(fx_curr-fx_prev)<ep1 or la.norm(dire)<ep2:\n",
    "                break;\n",
    "            dire_prev=dire\n",
    "            si_prev=si\n",
    "            x = x +  (alpha*si).transpose() \n",
    "            fx_prev=F_U(x)\n",
    "            print('{0}\\t[{1:.3f},{2:.3f}]\\t{3:.3f}\\t{4:.3f}'.format(i, x[0], x[1],fx_curr,la.norm(dire)))\n",
    "    print('---------------------------------------------------')\n",
    "            \n",
    "    \n",
    "    "
   ]
  },
  {
   "cell_type": "code",
   "execution_count": 68,
   "metadata": {
    "scrolled": true
   },
   "outputs": [
    {
     "name": "stdout",
     "output_type": "stream",
     "text": [
      "Initial function value = 270.29 \n",
      "Iter o.\t x-vector \tf(x)\t Norm \n",
      "---------------------------------------------------\n",
      "---------------------------------------------------\n",
      "1\t[0.030,0.199]\t-1.026\t33.677\n",
      "2\t[0.438,0.101]\t-6.301\t39.919\n",
      "3\t[0.502,-0.001]\t-7.353\t26.034\n",
      "---------------------------------------------------\n"
     ]
    }
   ],
   "source": [
    "dx=1e-3 \n",
    "ep1=1e-3\n",
    "ep2=1e-3\n",
    "x = [-1,1]\n",
    "ConjugateGradient(x,ep1,ep2,dx)"
   ]
  },
  {
   "cell_type": "code",
   "execution_count": null,
   "metadata": {},
   "outputs": [],
   "source": []
  }
 ],
 "metadata": {
  "kernelspec": {
   "display_name": "Python 3",
   "language": "python",
   "name": "python3"
  },
  "language_info": {
   "codemirror_mode": {
    "name": "ipython",
    "version": 3
   },
   "file_extension": ".py",
   "mimetype": "text/x-python",
   "name": "python",
   "nbconvert_exporter": "python",
   "pygments_lexer": "ipython3",
   "version": "3.7.3"
  }
 },
 "nbformat": 4,
 "nbformat_minor": 2
}
