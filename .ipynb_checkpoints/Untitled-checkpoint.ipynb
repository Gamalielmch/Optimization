{
 "cells": [
  {
   "cell_type": "code",
   "execution_count": 2,
   "id": "c0aca2ea-0494-49cf-bcd7-4e4c9c564ab2",
   "metadata": {},
   "outputs": [],
   "source": [
    "import numpy as np\n",
    "fb = lambda  x:3*x[1]-x[0]/x[1]\n",
    "f  = lambda  x: -2-2*x[0]+7*x[1]+x[0]*x[1]-2*x[1]**2\n",
    "fl = lambda  x: 5*x[1]-x[0]-2+\\\n",
    "((x[0]-2)/(2*x[1]**2) - ((x[0]*(x[1]-1))/(x[1]**3)))*(x[1]-1)\\\n",
    "+ ((x[0]-2)*(x[1]-1))/(2*x[1]**2)  "
   ]
  },
  {
   "cell_type": "code",
   "execution_count": 3,
   "id": "0aeacd91-9b22-43ac-9173-e95c25ec49b2",
   "metadata": {},
   "outputs": [
    {
     "name": "stdout",
     "output_type": "stream",
     "text": [
      "1.429089715536105 1.4240080000000002 1.440732581357949\n"
     ]
    }
   ],
   "source": [
    "print(fb([1.2,0.914]),f([1.2,0.914]),fl([1.2,0.914]))"
   ]
  },
  {
   "cell_type": "code",
   "execution_count": null,
   "id": "117eb558-bff7-47b2-b8da-1933d3a3a8a6",
   "metadata": {},
   "outputs": [],
   "source": []
  }
 ],
 "metadata": {
  "kernelspec": {
   "display_name": "Python 3",
   "language": "python",
   "name": "python3"
  },
  "language_info": {
   "codemirror_mode": {
    "name": "ipython",
    "version": 3
   },
   "file_extension": ".py",
   "mimetype": "text/x-python",
   "name": "python",
   "nbconvert_exporter": "python",
   "pygments_lexer": "ipython3",
   "version": "3.8.8"
  }
 },
 "nbformat": 4,
 "nbformat_minor": 5
}
