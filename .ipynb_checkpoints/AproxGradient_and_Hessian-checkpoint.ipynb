{
 "cells": [
  {
   "cell_type": "markdown",
   "metadata": {},
   "source": [
    "### Gradient and Hessian matrix\n",
    "Write a gradient and Hessian matrix for the function\n",
    "$$f(x)=x_{1}^{2}+2x_{1}x_{2}+3x_{2}^{2}+4x_{3}^{2}-5x_{2}x_{3}$$\n",
    "at point (1, 1, 1) \n",
    "\n",
    "The gradient is given by $$\\nabla f(x)= \\left[ \\begin{matrix} 2x_1+2x_2\\\\2x_1+6x_2-5x_3\\\\8x_3-5x_2 \\end{matrix} \\right]$$\n",
    "\n",
    "The Hessian is given by\n",
    "\n",
    "$$\\nabla H= \\left[ \\begin{matrix} 2 & 2 & 0\\\\2 & 6 & -5\\\\0 & -5 & 8 \\end{matrix} \\right]$$"
   ]
  },
  {
   "cell_type": "code",
   "execution_count": 1,
   "metadata": {
    "scrolled": true
   },
   "outputs": [],
   "source": [
    "import numpy as np\n",
    "import matplotlib.pyplot as plt\n",
    "#%matplotlib qt"
   ]
  },
  {
   "cell_type": "code",
   "execution_count": 2,
   "metadata": {
    "scrolled": true
   },
   "outputs": [],
   "source": [
    "def f(x):\n",
    "    fx = x[0]**2 + 2*x[0]*x[1]  + 3*x[1]**2  + 4*x[2]**2 - 5*x[1]*x[2]\n",
    "    return fx"
   ]
  },
  {
   "cell_type": "code",
   "execution_count": 3,
   "metadata": {},
   "outputs": [],
   "source": [
    "#gradient one variable \n",
    "def gradient(x,delta):\n",
    "    grad=np.zeros(3)\n",
    "    grad[0]=(f([x[0]+delta,x[1],x[2]])- f([x[0]-delta,x[1],x[2]]))/(2*delta)\n",
    "    grad[1]=(f([x[0],x[1]+delta,x[2]])- f([x[0],x[1]-delta,x[2]]))/(2*delta)\n",
    "    grad[2]=(f([x[0],x[1],x[2]+delta])- f([x[0],x[1],x[2]-delta]))/(2*delta)\n",
    "    return grad"
   ]
  },
  {
   "cell_type": "code",
   "execution_count": 4,
   "metadata": {},
   "outputs": [],
   "source": [
    "#gradient one variable \n",
    "def Hessian(x,delta):\n",
    "    H=np.zeros([3,3])\n",
    "    H[0,0]= (f([x[0]+delta,x[1],x[2]]) - 2*f([x[0],x[1],x[2]]) +  f([x[0]-delta,x[1],x[2]]))/(delta**2)\n",
    "    H[1,1]= (f([x[0],x[1]+delta,x[2]]) - 2*f([x[0],x[1],x[2]]) +  f([x[0],x[1]-delta,x[2]]))/(delta**2)\n",
    "    H[2,2]= (f([x[0],x[1],x[2]+delta]) - 2*f([x[0],x[1],x[2]]) +  f([x[0],x[1],x[2]-delta]))/(delta**2)\n",
    "    H[0,1]= (f([x[0]+delta,x[1]+delta,x[2]]) - f([x[0]+delta,x[1]-delta,x[2]]) - f([x[0]-delta,x[1]+delta,x[2]]) +  f([x[0]-delta,x[1]-delta,x[2]]))/(4*delta**2)\n",
    "    H[1,0]= H[0,1]\n",
    "    H[0,2]= (f([x[0]+delta,x[1],x[2]+delta]) - f([x[0]+delta,x[1],x[2]-delta]) - f([x[0]-delta,x[1],x[2]+delta]) +  f([x[0]-delta,x[1],x[2]-delta]))/(4*delta**2)\n",
    "    H[2,0]= H[0,2]\n",
    "    H[1,2]= (f([x[0],x[1]+delta,x[2]+delta]) - f([x[0],x[1]+delta,x[2]-delta]) - f([x[0],x[1]-delta,x[2]+delta]) +  f([x[0],x[1]-delta,x[2]-delta]))/(4*delta**2)\n",
    "    H[2,1]=H[1,2]\n",
    "    return H"
   ]
  },
  {
   "cell_type": "code",
   "execution_count": 5,
   "metadata": {},
   "outputs": [
    {
     "name": "stdout",
     "output_type": "stream",
     "text": [
      "f(x)= 5\n",
      "∇f(x)= [4. 3. 3.]\n",
      "H =  [[ 2.0000000e+00  2.0000000e+00 -4.4408921e-10]\n",
      " [ 2.0000000e+00  6.0000000e+00 -5.0000000e+00]\n",
      " [-4.4408921e-10 -5.0000000e+00  8.0000000e+00]]\n"
     ]
    }
   ],
   "source": [
    "x=np.array([1,1,1])\n",
    "print(\"f(x)=\",f(x))\n",
    "print(\"\\u2207f(x)=\",gradient(x,1e-3))\n",
    "print(\"H = \",Hessian(x,1e-3))"
   ]
  }
 ],
 "metadata": {
  "kernelspec": {
   "display_name": "Python 3",
   "language": "python",
   "name": "python3"
  },
  "language_info": {
   "codemirror_mode": {
    "name": "ipython",
    "version": 3
   },
   "file_extension": ".py",
   "mimetype": "text/x-python",
   "name": "python",
   "nbconvert_exporter": "python",
   "pygments_lexer": "ipython3",
   "version": "3.8.8"
  }
 },
 "nbformat": 4,
 "nbformat_minor": 4
}
