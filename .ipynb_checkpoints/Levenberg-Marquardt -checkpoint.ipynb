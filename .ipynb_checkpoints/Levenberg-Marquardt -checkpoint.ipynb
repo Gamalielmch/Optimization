{
 "cells": [
  {
   "cell_type": "code",
   "execution_count": 2,
   "metadata": {},
   "outputs": [],
   "source": [
    "def F_U(x):\n",
    "    fx = 100*(np.sqrt(x[0]**2+(x[1]+1)**2)-1)**2 + 90*(np.sqrt(x[0]**2+(x[1]+1)**2)-1)**2 -(20*x[0]+40*x[1])\n",
    "    return fx\n",
    "\n",
    "def Gradient(x,delta):\n",
    "    grad=np.zeros(2)\n",
    "    grad[0]=(F_U([x[0]+delta,x[1]])- F_U([x[0]-delta,x[1]]))/(2*delta)\n",
    "    grad[1]=(F_U([x[0],x[1]+delta])- F_U([x[0],x[1]-delta]))/(2*delta)\n",
    "    return grad\n",
    "\n",
    "\n",
    "\n",
    "def Hessian(x,delta):\n",
    "    H=np.zeros([2,2])\n",
    "    H[0,0]= (F_U([x[0]+delta,x[1]])  - 2*F_U(x) + F_U([x[0]-delta,x[1]]) )/ delta**2;\n",
    "    H[1,1]= (F_U([x[0],x[1]+delta])  - 2*F_U(x) + F_U([x[0],x[1]-delta]) )/ delta**2; \n",
    "    H[0,1]= (F_U([x[0]+delta,x[1]+delta]) - F_U([x[0]+delta,x[1]-delta]) - F_U([x[0]-delta,x[1]+delta]) + F_U([x[0]-delta,x[1]-delta]) )/ (4*(delta**2));\n",
    "    H[1,0]=H[0,1]\n",
    "    return H\n"
   ]
  },
  {
   "cell_type": "code",
   "execution_count": 26,
   "metadata": {},
   "outputs": [
    {
     "name": "stdout",
     "output_type": "stream",
     "text": [
      "Initial function value = 20.00 \n",
      "Iter o.\t x-vector \tf(x)\t Norm \n",
      "---------------------------------------------------\n",
      "---------------------------------------------------\n",
      "1\t[1.042,-0.600]\t5.716\t44.721\n",
      "2\t[0.897,-0.294]\t-2.377\t32.116\n",
      "3\t[0.708,-0.106]\t-6.182\t23.198\n",
      "4\t[0.571,-0.029]\t-7.220\t13.073\n",
      "5\t[0.513,-0.005]\t-7.348\t4.654\n",
      "6\t[0.501,-0.001]\t-7.353\t0.833\n",
      "7\t[0.500,-0.000]\t-7.353\t0.055\n",
      "8\t[0.500,-0.000]\t-7.353\t0.002\n",
      "9\t[0.500,-0.000]\t-7.353\t0.000\n",
      "---------------------------------------------------\n",
      "---------------------------------------------------\n"
     ]
    }
   ],
   "source": [
    "import numpy as np\n",
    "import numpy.linalg as la\n",
    "\n",
    "\n",
    "def LevenbergMarquardt(x,ep1,ep2,dx, lambd):\n",
    "    f_prev=F_U(x)\n",
    "    \n",
    "    print('Initial function value = {0:.2f} '.format(f_prev))\n",
    "    print('Iter o.\\t x-vector \\tf(x)\\t Norm ')\n",
    "    print('---------------------------------------------------')\n",
    "    print('---------------------------------------------------')\n",
    "    \n",
    "    for i in range(500):\n",
    "        f_prev=F_U(x)\n",
    "        gradient=Gradient(x,dx)\n",
    "        Hess=Hessian(x,dx) \n",
    "        Si = np.matmul(-1*la.inv(Hess + lambd*np.identity(len(x))),gradient.transpose())\n",
    "        x = x + Si.transpose() \n",
    "        x=np.ndarray.flatten(x)\n",
    "        fx_c = F_U(x)\n",
    "        \n",
    "        if fx_c< f_prev:\n",
    "            lambd = lambd / 2\n",
    "        else:\n",
    "            lambd = 2*lambd\n",
    "        \n",
    "        if abs(fx_c- f_prev)> ep1 or la.norm(gradient)>ep2:\n",
    "            print('{0}\\t[{1:.3f},{2:.3f}]\\t{3:.3f}\\t{4:.3f}'.format(i+1,x[0], x[1],fx_c,la.norm(gradient)))\n",
    "            continue\n",
    "        else:\n",
    "            print('{0}\\t[{1:.3f},{2:.3f}]\\t{3:.3f}\\t{4:.3f}'.format(i+1,x[0], x[1],fx_c,la.norm(gradient)))\n",
    "            print('---------------------------------------------------')\n",
    "            break\n",
    "      \n",
    "    print('---------------------------------------------------')\n",
    "\n",
    "        \n",
    "dx=1e-3 \n",
    "ep1=1e-3\n",
    "ep2 = 1e-3\n",
    "x = [-1,1]\n",
    "lambd = 10\n",
    "\n",
    "LevenbergMarquardt(x,ep1,ep2,dx,lambd)"
   ]
  },
  {
   "cell_type": "code",
   "execution_count": null,
   "metadata": {},
   "outputs": [],
   "source": []
  }
 ],
 "metadata": {
  "kernelspec": {
   "display_name": "Python 3",
   "language": "python",
   "name": "python3"
  },
  "language_info": {
   "codemirror_mode": {
    "name": "ipython",
    "version": 3
   },
   "file_extension": ".py",
   "mimetype": "text/x-python",
   "name": "python",
   "nbconvert_exporter": "python",
   "pygments_lexer": "ipython3",
   "version": "3.7.3"
  }
 },
 "nbformat": 4,
 "nbformat_minor": 2
}
