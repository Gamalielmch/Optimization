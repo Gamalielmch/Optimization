{
 "cells": [
  {
   "cell_type": "markdown",
   "metadata": {},
   "source": [
    "## Serie de Taylor\n",
    "$$f(x)= f(a)+ \\frac{f^{'}(a)}{1!} (x-a) + \\frac{f^{''}(a)}{2!} (x-a)^{2} + \\frac{f^{'''}(a)}{3!} (x-a)^{3} + \\cdots  $$\n",
    "$$+ \\frac{f^{N}(a)}{N!} (x-a)^{N}$$\n",
    "en su forma reducida\n",
    "$$f(x)= \\displaystyle \\sum_{n=0}^{N}{\\frac{f^{n}(a)}{n!} (x-a)^{n}}$$   \n"
   ]
  },
  {
   "cell_type": "code",
   "execution_count": 62,
   "metadata": {},
   "outputs": [
    {
     "data": {
      "image/png": "[encoded data removed]",
      "text/plain": [
       "<Figure size 432x288 with 1 Axes>"
      ]
     },
     "metadata": {
      "needs_background": "light"
     },
     "output_type": "display_data"
    }
   ],
   "source": [
    "import matplotlib.pyplot as plt\n",
    "import numpy as np\n",
    "import math \n",
    "orden = 50\n",
    "x=(numpy.arange(-5,5, 0.01))\n",
    "sz=len(x)\n",
    "e_xa=np.zeros([sz, ])\n",
    "a=1\n",
    "for i in range(0,orden+1):\n",
    "    temp=(np.exp(a)/ math.factorial(i))*(x-a)**i\n",
    "    e_xa=e_xa+ temp\n",
    "     \n",
    "plt.plot(x,e_xa, label=\"f\\'(x)\" , color = \"red\" )\n",
    "plt.plot(x,np.exp(x), label=\"f\\'(x)\" , color = \"black\" )\n",
    "plt.ylim(ymax = 10, ymin = -1);\n",
    "     "
   ]
  },
  {
   "cell_type": "code",
   "execution_count": null,
   "metadata": {},
   "outputs": [],
   "source": []
  }
 ],
 "metadata": {
  "kernelspec": {
   "display_name": "Python 3",
   "language": "python",
   "name": "python3"
  },
  "language_info": {
   "codemirror_mode": {
    "name": "ipython",
    "version": 3
   },
   "file_extension": ".py",
   "mimetype": "text/x-python",
   "name": "python",
   "nbconvert_exporter": "python",
   "pygments_lexer": "ipython3",
   "version": "3.8.8"
  }
 },
 "nbformat": 4,
 "nbformat_minor": 4
}
