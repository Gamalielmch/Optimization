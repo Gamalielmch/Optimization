{
 "cells": [
  {
   "cell_type": "code",
   "execution_count": 16,
   "metadata": {},
   "outputs": [],
   "source": [
    "import numpy as np\n",
    "import numpy.linalg as la\n",
    "import scipy.optimize as sopt\n",
    "import matplotlib.pyplot as plt\n",
    "from mpl_toolkits.mplot3d import Axes3D\n",
    "from matplotlib import cm\n",
    "%matplotlib qt"
   ]
  },
  {
   "cell_type": "code",
   "execution_count": 17,
   "metadata": {},
   "outputs": [],
   "source": [
    "def func_multivar(x):\n",
    "    fx = 100*(np.sqrt(x[0]**2+(x[1]+1)**2)-1)**2 + 90*(np.sqrt(x[0]**2+(x[1]+1)**2)-1)**2 -(20*x[0]+40*x[1])\n",
    "    return fx"
   ]
  },
  {
   "cell_type": "code",
   "execution_count": 18,
   "metadata": {},
   "outputs": [
    {
     "name": "stdout",
     "output_type": "stream",
     "text": [
      "\t  Minimum   \t\n",
      "\n",
      "   fx   \t    x* \t \t  ite \n",
      "\n",
      "-7.345803   0.515152 -0.010101   10000\n"
     ]
    }
   ],
   "source": [
    "x = np.linspace(-1, 1, 100)\n",
    "mini=1000;\n",
    "x_opt=(0, 0);\n",
    "ite=0;\n",
    "\\t\n",
    "    for j in x:\n",
    "        fx=func_multivar([i,j])\n",
    "        ite=ite+1;\n",
    "        if mini > fx:\n",
    "            mini=fx\n",
    "            x_opt=(i, j);\n",
    "\n",
    "print(\"\\t  Minimum   \\t\\n\")          \n",
    "print(\"   fx   \\t    x* \\t \\t  ite \\n\")\n",
    "print(\"%f   %f %f   %d\" % (mini,x_opt[0],x_opt[1], ite))\n"
   ]
  },
  {
   "cell_type": "code",
   "execution_count": 39,
   "metadata": {},
   "outputs": [],
   "source": [
    "x = np.linspace(-1, 1, 1000)\n",
    "y = np.linspace(-1, 1, 1000)\n",
    "xx, yy = np.meshgrid(x, y)\n",
    "z = 100*(np.sqrt(xx**2+(yy+1)**2)-1)**2 + 90*(np.sqrt(xx**2+(yy+1)**2)-1)**2 -(20*xx+40*yy)\n",
    "fig = plt.figure();\n",
    "ax = fig.gca(projection='3d');\n",
    "fx=func_multivar(x_opt)\n",
    "\n",
    "ax.plot_surface(xx, yy, z, cmap=cm.coolwarm,linewidth=0, antialiased=True);\n",
    "ax.scatter(x_opt[0], x_opt[1], fx, c=[0], s=100, linewidth=0.5, marker='o', cmap=None, norm=None);"
   ]
  },
  {
   "cell_type": "code",
   "execution_count": null,
   "metadata": {},
   "outputs": [],
   "source": []
  }
 ],
 "metadata": {
  "kernelspec": {
   "display_name": "Python 3",
   "language": "python",
   "name": "python3"
  },
  "language_info": {
   "codemirror_mode": {
    "name": "ipython",
    "version": 3
   },
   "file_extension": ".py",
   "mimetype": "text/x-python",
   "name": "python",
   "nbconvert_exporter": "python",
   "pygments_lexer": "ipython3",
   "version": "3.7.3"
  }
 },
 "nbformat": 4,
 "nbformat_minor": 4
}
