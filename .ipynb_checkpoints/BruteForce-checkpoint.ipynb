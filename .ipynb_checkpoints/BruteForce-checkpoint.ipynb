{
 "cells": [
  {
   "cell_type": "code",
   "execution_count": 1,
   "metadata": {},
   "outputs": [
    {
     "name": "stdout",
     "output_type": "stream",
     "text": [
      "Minimum value = -7.352920565984244 ,  x1 =0.49900000000000144  ,  x2 = 8.881784197001252e-16\n"
     ]
    }
   ],
   "source": [
    "import numpy as np \n",
    "def F_U(x):\n",
    "    fx = 100*(np.sqrt(x[0]**2+(x[1]+1)**2)-1)**2 + 90*(np.sqrt(x[0]**2+(x[1]+1)**2)-1)**2 -(20*x[0]+40*x[1])\n",
    "    return fx\n",
    "\n",
    "def F_U2(x1,x2):\n",
    "    fx = 100*(np.sqrt(x1**2+(x2+1)**2)-1)**2 + 90*(np.sqrt(x1**2+(x2+1)**2)-1)**2 -(20*x1+40*x2)\n",
    "    return fx\n",
    "\n",
    "\n",
    "def brute_force(x1,x2,min,x1min,x2min):\n",
    "    for i in range(1,len(x1)):\n",
    "        for j in range(1,len(x2)):\n",
    "            fu = F_U2(x1[i],x2[j])\n",
    "            if fu<min:\n",
    "                min = fu \n",
    "                x1min = x1[i]\n",
    "                x2min = x2[j]\n",
    "    print('Minimum value = {0} ,  x1 ={1}  ,  x2 = {2}'.format(min,x1min,x2min))\n",
    "    \n",
    "    \n",
    "    \n",
    "    \n",
    "x1 = np.arange(-1,1,0.001)\n",
    "x2 = np.arange(-1,1,0.001)\n",
    "x1min = -1\n",
    "x2min = -1\n",
    "min = 1e20\n",
    "brute_force(x1,x2,min,x1min,x2min)\n",
    "    "
   ]
  },
  {
   "cell_type": "code",
   "execution_count": null,
   "metadata": {},
   "outputs": [],
   "source": []
  }
 ],
 "metadata": {
  "kernelspec": {
   "display_name": "Python 3",
   "language": "python",
   "name": "python3"
  },
  "language_info": {
   "codemirror_mode": {
    "name": "ipython",
    "version": 3
   },
   "file_extension": ".py",
   "mimetype": "text/x-python",
   "name": "python",
   "nbconvert_exporter": "python",
   "pygments_lexer": "ipython3",
   "version": "3.8.8"
  }
 },
 "nbformat": 4,
 "nbformat_minor": 4
}
