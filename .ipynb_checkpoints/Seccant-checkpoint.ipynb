{
 "cells": [
  {
   "cell_type": "code",
   "execution_count": 14,
   "metadata": {},
   "outputs": [
    {
     "name": "stdout",
     "output_type": "stream",
     "text": [
      "terminado num de interaciones:0\n"
     ]
    },
    {
     "data": {
      "text/plain": [
       "-2.500000000002238"
      ]
     },
     "execution_count": 14,
     "metadata": {},
     "output_type": "execute_result"
    }
   ],
   "source": [
    "import numpy as np\n",
    "import math\n",
    "import matplotlib.pyplot as plt\n",
    "import random\n",
    "\n",
    "\n",
    "#f = lambda x: 204165.5/(330-2*x) + 10400/(x-20)\n",
    "f  = f = lambda  x: 2*(x**2) + 10 *x -20\n",
    "fdx = lambda x,dx: (f(x+dx) - f(x-dx))/(2*dx)\n",
    "\n",
    "\n",
    "\n",
    "\n",
    "def Seccant(x1,x2,fdx,epsilon,max_iter):\n",
    "   \n",
    "    for i in range(0, max_iter):\n",
    "        actualmin = x2 - ((fdx(x2,epsilon)*(x2-x1)))/(fdx(x2,epsilon)-fdx(x1,epsilon))\n",
    "       \n",
    "        if abs(fdx(actualmin,epsilon))<epsilon:\n",
    "            print(\"terminado num de interaciones:\" + str(i+1))\n",
    "            return actualmin\n",
    "           \n",
    "        if fdx(actualmin,epsilon)*fdx(x1,epsilon)<0:\n",
    "            x2=actualmin\n",
    "        else:\n",
    "            x1 = actualmin\n",
    "        print(\"iteracion no \"  + str(i+1))\n",
    "\n",
    "    return actualmin\n",
    "\n",
    "\n",
    "\n",
    "#temperatura\n",
    "T = np.arange(-100,100.001, 0.001)\n",
    "\n",
    "#punto inicial\n",
    "x1  = random.uniform(40.0,90.0)\n",
    "x2 = random.uniform(40.0,90.0)\n",
    "e = math.exp(1)**-3\n",
    "\n",
    "\n",
    "\n",
    "Seccant(x1,x2,fdx,e,100)"
   ]
  },
  {
   "cell_type": "code",
   "execution_count": 16,
   "metadata": {},
   "outputs": [
    {
     "data": {
      "text/plain": [
       "[<matplotlib.lines.Line2D at 0x124033362e8>]"
      ]
     },
     "execution_count": 16,
     "metadata": {},
     "output_type": "execute_result"
    },
    {
     "data": {
      "image/png": "[encoded data removed]",
      "text/plain": [
       "<Figure size 1080x288 with 1 Axes>"
      ]
     },
     "metadata": {
      "needs_background": "light"
     },
     "output_type": "display_data"
    }
   ],
   "source": [
    "fx = f(T)\n",
    "\n",
    "Tdx =  fdx(T,e)\n",
    "\n",
    "fig  = plt.figure(figsize=(15,4))\n",
    "a = fig.add_subplot(1, 2, 1)\n",
    "plt.plot(T,fx)\n",
    "plt.plot(T,Tdx)\n"
   ]
  },
  {
   "cell_type": "code",
   "execution_count": null,
   "metadata": {},
   "outputs": [],
   "source": []
  }
 ],
 "metadata": {
  "kernelspec": {
   "display_name": "Python 3",
   "language": "python",
   "name": "python3"
  },
  "language_info": {
   "codemirror_mode": {
    "name": "ipython",
    "version": 3
   },
   "file_extension": ".py",
   "mimetype": "text/x-python",
   "name": "python",
   "nbconvert_exporter": "python",
   "pygments_lexer": "ipython3",
   "version": "3.7.3"
  }
 },
 "nbformat": 4,
 "nbformat_minor": 2
}
