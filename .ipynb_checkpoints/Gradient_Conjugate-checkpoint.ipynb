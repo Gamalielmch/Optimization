{
 "cells": [
  {
   "cell_type": "code",
   "execution_count": 7,
   "metadata": {},
   "outputs": [],
   "source": [
    "import numpy as np\n",
    "import numpy.linalg as la\n",
    "import scipy.optimize as sopt\n",
    "import matplotlib.pyplot as plt\n",
    "from mpl_toolkits.mplot3d import Axes3D\n",
    "from matplotlib import cm\n",
    "from numpy import linalg as LA\n",
    "%matplotlib qt"
   ]
  },
  {
   "cell_type": "code",
   "execution_count": 8,
   "metadata": {},
   "outputs": [],
   "source": [
    "def funcx(x):\n",
    "    fx = 100*(np.sqrt(x[0]**2+(x[1]+1)**2)-1)**2 + 90*(np.sqrt(x[0]**2+(x[1]+1)**2)-1)**2 -(20*x[0]+40*x[1])\n",
    "    return fx"
   ]
  },
  {
   "cell_type": "code",
   "execution_count": 9,
   "metadata": {},
   "outputs": [],
   "source": [
    "def gradient(x,delta):\n",
    "    grad=np.zeros(2)\n",
    "    grad[0]=(funcx([x[0]+delta,x[1]])- funcx([x[0]-delta,x[1]]))/(2*delta)\n",
    "    grad[1]=(funcx([x[0],x[1]+delta])- funcx([x[0],x[1]-delta]))/(2*delta)\n",
    "    return grad"
   ]
  },
  {
   "cell_type": "code",
   "execution_count": 10,
   "metadata": {},
   "outputs": [],
   "source": [
    "def golden(x,search,xi,eps):\n",
    "    a = xi[0];\n",
    "    b = xi[1];\n",
    "    tau = 0.381967;\n",
    "    alpha1 = a*(1-tau) + b*tau;\n",
    "    alpha2 = a*tau + b*(1-tau);\n",
    "    falpha1 = funcx(x+alpha1*search);\n",
    "    falpha2 = funcx(x+alpha2*search);\n",
    "    for i in range(100):\n",
    "        if falpha1 > falpha2:\n",
    "            a = alpha1;\n",
    "            alpha1 = alpha2;\n",
    "            falpha1 = falpha2;\n",
    "            alpha2 = tau*a + (1-tau)*b;\n",
    "            falpha2 = funcx(x+alpha2*search);\n",
    "        else:\n",
    "            b = alpha2;\n",
    "            alpha2 = alpha1;\n",
    "            falpha2 = falpha1;\n",
    "            alpha1 = tau*b + (1-tau)*a;\n",
    "            falpha1 = funcx(x+alpha1*search);\n",
    "\n",
    "        if np.abs(funcx(x+alpha1*search)- funcx(x+alpha2*search)) < eps :\n",
    "            break;\n",
    "    return alpha1,falpha1"
   ]
  },
  {
   "cell_type": "code",
   "execution_count": 11,
   "metadata": {},
   "outputs": [],
   "source": [
    "def hessian(x,delta):\n",
    "    H=np.zeros([2,2])\n",
    "    H[0,0]= ( funcx([x[0]+delta,x[1]])  - 2*funcx(x) + funcx([x[0]-delta,x[1]]) )/ delta**2;\n",
    "    H[1,1]= ( funcx([x[0],x[1]+delta])  - 2*funcx(x) + funcx([x[0],x[1]-delta]) )/ delta**2; \n",
    "    H[0,1]= ( funcx([x[0]+delta,x[1]+delta]) - funcx([x[0]+delta,x[1]-delta]) - funcx([x[0]-delta,x[1]+delta]) + funcx([x[0]-delta,x[1]-delta]) )/ (4*(delta**2));\n",
    "    H[1,0]=H[0,1]\n",
    "    return H"
   ]
  },
  {
   "cell_type": "code",
   "execution_count": 41,
   "metadata": {},
   "outputs": [
    {
     "name": "stdout",
     "output_type": "stream",
     "text": [
      "Initial function value = 270.294169 \n",
      " \n",
      "No. \t \t x-vector \t   f(x) \t Deriv \n",
      "\n",
      "______________________________________________________________________\n",
      "\n",
      "0\t -0.389200 -0.009202\t 8.942496 \t0.224325 \n",
      "\n",
      "1\t 0.030182 0.198582\t -1.025620 \t33.677247 \n",
      "\n",
      "2\t 0.438417 0.100970\t -6.300851 \t39.919083 \n",
      "\n",
      "3\t 0.502485 -0.001055\t -7.352742 \t26.034284 \n",
      "\n",
      "4\t 0.502485 -0.001055\t -7.352825 \t0.224325 \n",
      "\n",
      "______________________________________________________________________\n",
      "\n"
     ]
    }
   ],
   "source": [
    "delta=1e-3; \n",
    "ep1=1e-3; \n",
    "xi = [-1,1];\n",
    "x = xi;\n",
    "\n",
    "fx_prev=funcx(x)\n",
    "print(\"Initial function value = %f \\n \" % fx_prev)\n",
    "print(\"No. \\t \\t x-vector \\t   f(x) \\t Deriv \\n\")\n",
    "print(\"______________________________________________________________________\\n\")\n",
    "for j in range(30):\n",
    "    if j==0:\n",
    "        dire_prev=gradient(x,delta)\n",
    "        si_prev = -dire_prev\n",
    "        alpha,fx_prev = golden(x,si_prev,xi,ep1);\n",
    "        \n",
    "        if LA.norm(dire_prev)<ep1:\n",
    "            break\n",
    "        x = x +  alpha*si_prev \n",
    "    else:\n",
    "        dire=gradient(x,delta)\n",
    "        si = - dire +((LA.norm(dire)**2)/(LA.norm(dire_prev)**2))*si_prev;\n",
    "        alpha,fx_curr = golden(x,si,xi,ep1);\n",
    "        if abs(fx_curr-fx_prev)<ep1 or LA.norm(dire)<ep1:\n",
    "            break;\n",
    "        dire_prev=dire\n",
    "        si_prev=si\n",
    "        x = x +  (alpha*si).transpose() \n",
    "        fx_prev=funcx(x)\n",
    "    \n",
    "    print(\"%d\\t %f %f\\t %f \\t%f \\n\" %(j,x[0],x[1],fx_prev,LA.norm(dire)))\n",
    "print(\"%d\\t %f %f\\t %f \\t%f \\n\" %(j,x[0],x[1],fx_curr,LA.norm(dire)))\n",
    "print(\"______________________________________________________________________\\n\")    "
   ]
  },
  {
   "cell_type": "code",
   "execution_count": null,
   "metadata": {},
   "outputs": [],
   "source": []
  }
 ],
 "metadata": {
  "kernelspec": {
   "display_name": "Python 3",
   "language": "python",
   "name": "python3"
  },
  "language_info": {
   "codemirror_mode": {
    "name": "ipython",
    "version": 3
   },
   "file_extension": ".py",
   "mimetype": "text/x-python",
   "name": "python",
   "nbconvert_exporter": "python",
   "pygments_lexer": "ipython3",
   "version": "3.7.3"
  }
 },
 "nbformat": 4,
 "nbformat_minor": 4
}
