{
 "cells": [
  {
   "cell_type": "code",
   "execution_count": 3,
   "metadata": {},
   "outputs": [],
   "source": [
    "import numpy as np\n",
    "import numpy.linalg as la\n",
    "import scipy.optimize as sopt\n",
    "import matplotlib.pyplot as plt\n",
    "from mpl_toolkits.mplot3d import Axes3D\n",
    "from matplotlib import cm\n",
    "from numpy import linalg as LA\n",
    "%matplotlib qt"
   ]
  },
  {
   "cell_type": "code",
   "execution_count": 4,
   "metadata": {},
   "outputs": [],
   "source": [
    "def funcx(x):\n",
    "    fx = 100*(np.sqrt(x[0]**2+(x[1]+1)**2)-1)**2 + 90*(np.sqrt(x[0]**2+(x[1]+1)**2)-1)**2 -(20*x[0]+40*x[1])\n",
    "    return fx"
   ]
  },
  {
   "cell_type": "code",
   "execution_count": 5,
   "metadata": {},
   "outputs": [],
   "source": [
    "def gradient(x,delta):\n",
    "    grad=np.zeros(2)\n",
    "    grad[0]=(funcx([x[0]+delta,x[1]])- funcx([x[0]-delta,x[1]]))/(2*delta)\n",
    "    grad[1]=(funcx([x[0],x[1]+delta])- funcx([x[0],x[1]-delta]))/(2*delta)\n",
    "    return grad"
   ]
  },
  {
   "cell_type": "code",
   "execution_count": 6,
   "metadata": {},
   "outputs": [],
   "source": [
    "def golden(x,search,xi,eps):\n",
    "    a = xi[0];\n",
    "    b = xi[1];\n",
    "    tau = 0.381967;\n",
    "    alpha1 = a*(1-tau) + b*tau;\n",
    "    alpha2 = a*tau + b*(1-tau);\n",
    "    falpha1 = funcx(x+alpha1*search);\n",
    "    falpha2 = funcx(x+alpha2*search);\n",
    "    for i in range(100):\n",
    "        if falpha1 > falpha2:\n",
    "            a = alpha1;\n",
    "            alpha1 = alpha2;\n",
    "            falpha1 = falpha2;\n",
    "            alpha2 = tau*a + (1-tau)*b;\n",
    "            falpha2 = funcx(x+alpha2*search);\n",
    "        else:\n",
    "            b = alpha2;\n",
    "            alpha2 = alpha1;\n",
    "            falpha2 = falpha1;\n",
    "            alpha1 = tau*b + (1-tau)*a;\n",
    "            falpha1 = funcx(x+alpha1*search);\n",
    "\n",
    "        if np.abs(funcx(x+alpha1*search)- funcx(x+alpha2*search)) < eps :\n",
    "            break;\n",
    "    return alpha1,falpha1"
   ]
  },
  {
   "cell_type": "code",
   "execution_count": 7,
   "metadata": {},
   "outputs": [],
   "source": [
    "def hessian(x,delta):\n",
    "    H=np.zeros([2,2])\n",
    "    H[0,0]= ( funcx([x[0]+delta,x[1]])  - 2*funcx(x) + funcx([x[0]-delta,x[1]]) )/ delta**2;\n",
    "    H[1,1]= ( funcx([x[0],x[1]+delta])  - 2*funcx(x) + funcx([x[0],x[1]-delta]) )/ delta**2; \n",
    "    H[0,1]= ( funcx([x[0]+delta,x[1]+delta]) - funcx([x[0]+delta,x[1]-delta]) - funcx([x[0]-delta,x[1]+delta]) + funcx([x[0]-delta,x[1]-delta]) )/ (4*(delta**2));\n",
    "    H[1,0]=H[0,1]\n",
    "    return H"
   ]
  },
  {
   "cell_type": "code",
   "execution_count": 10,
   "metadata": {},
   "outputs": [
    {
     "name": "stdout",
     "output_type": "stream",
     "text": [
      "Initial function value = 270.294169 \n",
      " \n",
      "No. \t \t x-vector \t   f(x) \t Deriv \n",
      "\n",
      "______________________________________________________________________\n",
      "\n",
      "0.999786068737585\n",
      "0\t -0.326598 0.033961\t 6.524281 \t444.315788 \n",
      "\n",
      "0.4752407998047295\n",
      "1\t 0.150630 0.184806\t -3.228708 \t31.119426 \n",
      "\n",
      "0.9985337009049162\n",
      "2\t 0.377163 0.072176\t -6.886038 \t34.934994 \n",
      "\n",
      "0.9837385520197052\n",
      "3\t 0.484359 0.013803\t -7.338283 \t9.380089 \n",
      "\n",
      "0.7082024218220001\n",
      "4\t 0.494829 0.004172\t -7.351492 \t2.380125 \n",
      "\n",
      "0.23606600000000005\n"
     ]
    }
   ],
   "source": [
    "delta=1e-3; \n",
    "ep1=1e-3; \n",
    "xi = [-1,1];\n",
    "x = xi;\n",
    "\n",
    "fx_prev=funcx(x)\n",
    "print(\"Initial function value = %f \\n \" % fx_prev)\n",
    "print(\"No. \\t \\t x-vector \\t   f(x) \\t Deriv \\n\")\n",
    "print(\"______________________________________________________________________\\n\")\n",
    "for j in range(30):\n",
    "    dire=gradient(x,delta)\n",
    "    H=hessian(x,delta)\n",
    "    dire=np.atleast_2d(dire)\n",
    "    si=np.matmul(-LA.inv(H),dire.transpose())\n",
    "    si = si.transpose()\n",
    "    si=np.ndarray.flatten(si)\n",
    "    alpha,fx_curr = golden(x,si,xi,ep1);\n",
    "    print(alpha)\n",
    "    if abs(fx_curr-fx_prev)<ep1 or LA.norm(dire)<ep1:\n",
    "        break;\n",
    "    x = x +  alpha*si\n",
    "    fx_prev=fx_curr\n",
    "    print(\"%d\\t %f %f\\t %f \\t%f \\n\" %(j,x[0],x[1],fx_curr,LA.norm(dire)))"
   ]
  },
  {
   "cell_type": "code",
   "execution_count": null,
   "metadata": {},
   "outputs": [],
   "source": []
  }
 ],
 "metadata": {
  "kernelspec": {
   "display_name": "Python 3",
   "language": "python",
   "name": "python3"
  },
  "language_info": {
   "codemirror_mode": {
    "name": "ipython",
    "version": 3
   },
   "file_extension": ".py",
   "mimetype": "text/x-python",
   "name": "python",
   "nbconvert_exporter": "python",
   "pygments_lexer": "ipython3",
   "version": "3.7.3"
  }
 },
 "nbformat": 4,
 "nbformat_minor": 4
}
