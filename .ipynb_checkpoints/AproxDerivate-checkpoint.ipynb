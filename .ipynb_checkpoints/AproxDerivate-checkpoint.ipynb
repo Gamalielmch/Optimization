{
 "cells": [
  {
   "cell_type": "code",
   "execution_count": 15,
   "metadata": {
    "scrolled": true
   },
   "outputs": [],
   "source": [
    "import math\n",
    "import numpy as np\n",
    "import matplotlib.pyplot as plt"
   ]
  },
  {
   "cell_type": "code",
   "execution_count": 16,
   "metadata": {
    "scrolled": true
   },
   "outputs": [],
   "source": [
    "#variable aleatoria\n",
    "xt = np.arange(0,1,0.01)\n",
    "\n",
    "#funcion analitica \n",
    "f  = lambda  x: 2*np.sin(5*x)+3*x**3-2*x**2+3*x-5\n",
    "#primera derivada\n",
    "fd = lambda x: 10*np.cos(5*x)+9*x**2-4*x+3\n",
    "#segunda derivada\n",
    "fdd = lambda x: -50*np.sin(5*x)+18*x-4\n",
    "\n",
    "\n",
    "\n",
    "\n",
    "#aproximada de primera derivada \n",
    "afda = lambda x, dx: (f(x+dx)-f(x))/dx\n",
    "#atrasada\n",
    "afdt = lambda x, dx: (f(x)-f(x-dx))/dx\n",
    "#centrada\n",
    "afdc = lambda x,dx: (f(x+dx)-f(x-dx))/(2*dx)\n",
    "# adelantada segundo orden\n",
    "afso=  lambda x,dx: (4*f(x+dx)-3*f(x)-f(x+2*dx))/(2*dx)\n",
    "\n",
    "#aproximada de segunda derivada \n",
    "afdda = lambda x, dx: (f(x+dx)-2*f(x)+f(x-dx))/(dx**2)\n",
    "\n",
    "dx=0.01"
   ]
  },
  {
   "cell_type": "code",
   "execution_count": 17,
   "metadata": {
    "scrolled": true
   },
   "outputs": [],
   "source": [
    "#analitica\n",
    "fa = f(xt)\n",
    "fad = fd(xt)\n",
    "fadd = fdd(xt)\n",
    "\n",
    "#aproximada\n",
    "fn = afda(xt,dx)\n",
    "fna = afdt(xt,dx)\n",
    "fnac = afdc(xt,dx)\n",
    "fso = afso(xt,dx)\n",
    "fsa = afdda(xt,dx)\n",
    "\n",
    "\n",
    "fig=plt.figure(figsize = (15,4))\n",
    "a = fig.add_subplot(2, 2, 1)\n",
    "plt.plot(xt,fad,'red', label='Analítica')\n",
    "plt.plot(xt,fn,'g--', label='Adelantada')\n",
    "a.set_title('Graficas analítica y númerica adelantada')\n",
    "plt.legend(loc='lower right')\n",
    "\n",
    "b = fig.add_subplot(2, 2, 2)\n",
    "plt.plot(xt,fad,'red',label='Analítica')\n",
    "plt.plot(xt,fna,'g--',label='Atrasada')\n",
    "b.set_title('Graficas analítica y númerica atrasada')\n",
    "plt.legend(loc='lower right')\n",
    "\n",
    "\n",
    "\n",
    "c = fig.add_subplot(2,2, 3)\n",
    "plt.plot(xt,fad,'red',label='Analítica')\n",
    "plt.plot(xt,fnac,'g--',label='Central')\n",
    "c.set_title('Graficas analítica y númerica central')\n",
    "plt.legend(loc='lower right')\n",
    "\n",
    "c = fig.add_subplot(2,2, 4)\n",
    "plt.plot(xt,fad,'red',label='Analítica')\n",
    "plt.plot(xt,fso,'g--',label='adelantada segundo orden')\n",
    "c.set_title('Graficas analítica y adelantada segundo orden')\n",
    "plt.legend(loc='lower right')\n",
    "\n",
    "\n",
    "plt.show()"
   ]
  },
  {
   "cell_type": "code",
   "execution_count": 4,
   "metadata": {
    "scrolled": true
   },
   "outputs": [
    {
     "data": {
      "text/plain": [
       "<matplotlib.legend.Legend at 0x296e9cf6040>"
      ]
     },
     "execution_count": 4,
     "metadata": {},
     "output_type": "execute_result"
    },
    {
     "data": {
      "image/png": "[encoded data removed]",
      "text/plain": [
       "<Figure size 1080x288 with 1 Axes>"
      ]
     },
     "metadata": {
      "needs_background": "light"
     },
     "output_type": "display_data"
    }
   ],
   "source": [
    "#Segunda derivada\n",
    "fig2=plt.figure(figsize = (15,4))\n",
    "plt.plot(xt,fadd,'red', label='Analítica')\n",
    "plt.plot(xt,fsa,'g--', label='Aproximada')\n",
    "plt.title('Graficas segunda derivada analítica y númerica ')\n",
    "plt.legend(loc='lower right')"
   ]
  },
  {
   "cell_type": "code",
   "execution_count": 5,
   "metadata": {},
   "outputs": [],
   "source": [
    "#gradient one variable \n",
    "def gradient(x,delta):\n",
    "    grad=np.zeros(2)\n",
    "    grad[0]=(f([x[0]+delta,x[1]])- f([x[0]-delta,x[1]]))/(2*delta)\n",
    "    grad[1]=(f([x[0],x[1]+delta])- f([x[0],x[1]-delta]))/(2*delta)\n",
    "    return grad"
   ]
  },
  {
   "cell_type": "code",
   "execution_count": 6,
   "metadata": {},
   "outputs": [],
   "source": [
    "def fu(x1,x2):\n",
    "    U = 100*(np.sqrt(x1**2+(x2+1)**2)-1)**2 + 90*(np.sqrt(x1**2+(x2+1)**2)-1)**2 -(20*x1+40*x2)\n",
    "    return U\n",
    "\n"
   ]
  },
  {
   "cell_type": "code",
   "execution_count": 7,
   "metadata": {},
   "outputs": [],
   "source": [
    "import numpy as np\n",
    "#import numpy.linalg as la\n",
    "#import scipy.optimize as sopt\n",
    "import matplotlib.pyplot as plt\n",
    "from mpl_toolkits.mplot3d import Axes3D\n",
    "from matplotlib import cm\n",
    "#from numpy import linalg as LA\n",
    "%matplotlib qt"
   ]
  },
  {
   "cell_type": "code",
   "execution_count": 8,
   "metadata": {},
   "outputs": [],
   "source": [
    "def gradient(x,delta):\n",
    "    grad=np.zeros(2)\n",
    "    grad[0]=(fu(x[0]+delta,x[1])- fu(x[0]-delta,x[1]))/(2*delta)\n",
    "    grad[1]=(fu(x[0],x[1]+delta)- fu(x[0],x[1]-delta))/(2*delta)\n",
    "    return grad"
   ]
  },
  {
   "cell_type": "code",
   "execution_count": 9,
   "metadata": {},
   "outputs": [],
   "source": [
    "x1 = np.arange(-1, 1, 0.01)\n",
    "x1len = len(x1)\n",
    "x2 = np.arange(-1, 1, 0.01)\n",
    "x2len = len(x2)\n",
    "Ux=np.zeros((x1len,x2len));\n",
    "for i in range(0,x1len):\n",
    "    for j in range(0,x2len):\n",
    "        Ux[i,j] =fu(x1[i],x2[j])\n",
    "       "
   ]
  },
  {
   "cell_type": "code",
   "execution_count": 10,
   "metadata": {
    "scrolled": true
   },
   "outputs": [],
   "source": [
    "x1, x2 = np.meshgrid(x1, x2)\n",
    "fig = plt.figure()\n",
    "ax = fig.gca(projection='3d')\n",
    "surf = ax.plot_surface(x1, x2, Ux, cmap=cm.coolwarm,\n",
    "                       linewidth=0, antialiased=False)\n",
    "plt.show()"
   ]
  },
  {
   "cell_type": "code",
   "execution_count": 11,
   "metadata": {},
   "outputs": [],
   "source": [
    "dx1x1  = lambda  x,delta: (fu(x[0]+delta,x[1])-2*fu(x[0],x[1])+fu(x[0]-delta,x[1]))/delta**2\n",
    "dx2x2 = lambda x, delta: (fu(x[0],x[1]+delta)-2*fu(x[0],x[1])+ fu(x[0],x[1]-delta))/delta**2\n",
    "\n",
    "dx1x2 = lambda x,delta: (fu(x[0]+delta,x[1]+delta) - fu(x[0]+delta,x[1]-delta)-fu(x[0]-delta,x[1]+delta)+\n",
    "                        fu(x[0]-delta,x[1]-delta))/(4*delta**2)\n",
    "\n",
    "Hess = lambda x,delta: [[dx1x1(x,delta),dx1x2(x,delta)],[dx1x2(x,delta),dx2x2(x,delta)]]\n",
    "\n",
    "\n",
    "dx1 = lambda x,delta: (fu(x[0]+delta,x[1])-fu(x[0]-delta,x[1]))/2*delta\n",
    "dx2 = lambda x,delta: (fu(x[0],x[1]+delta)-fu(x[0],x[1]-delta))/2*delta\n",
    "\n",
    "G = lambda x,delta: [(fu(x[0]+delta,x[1])-fu(x[0]-delta,x[1]))/2*delta,(fu(x[0],x[1]+delta)-fu(x[0],x[1]-delta))/2*delta]\n",
    "                \n"
   ]
  },
  {
   "cell_type": "code",
   "execution_count": 12,
   "metadata": {},
   "outputs": [
    {
     "name": "stdout",
     "output_type": "stream",
     "text": [
      "[-230.06019323  380.11834719]\n",
      "-230.06019322846214 380.1183471935247\n",
      "[[244.0470669739625, -67.97578673882754], [-67.97578673882754, 346.0112569098328]]\n"
     ]
    }
   ],
   "source": [
    "delta =0.01\n",
    "\n",
    "xi = [-1,1]\n",
    "\n",
    "\n",
    "\n",
    "gradiente1 =  gradient(xi,delta)\n",
    "gradiente2 = G(xi,delta)\n",
    "H = Hess(xi,delta)\n",
    "print(gradiente1)\n",
    "print(gradiente2[0]*10000, gradiente2[1]*10000)\n",
    "print(H)\n"
   ]
  },
  {
   "cell_type": "code",
   "execution_count": null,
   "metadata": {},
   "outputs": [],
   "source": []
  }
 ],
 "metadata": {
  "kernelspec": {
   "display_name": "Python 3",
   "language": "python",
   "name": "python3"
  },
  "language_info": {
   "codemirror_mode": {
    "name": "ipython",
    "version": 3
   },
   "file_extension": ".py",
   "mimetype": "text/x-python",
   "name": "python",
   "nbconvert_exporter": "python",
   "pygments_lexer": "ipython3",
   "version": "3.8.8"
  }
 },
 "nbformat": 4,
 "nbformat_minor": 4
}
