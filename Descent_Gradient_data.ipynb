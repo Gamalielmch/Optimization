{
 "cells": [
  {
   "cell_type": "code",
   "execution_count": 35,
   "id": "6bf204d8-ee4d-486e-b1da-b17859a42d3b",
   "metadata": {},
   "outputs": [],
   "source": [
    "import numpy as np\n",
    "import matplotlib.pyplot as plt\n",
    "import pandas as pd\n",
    "%matplotlib qt"
   ]
  },
  {
   "cell_type": "code",
   "execution_count": 54,
   "id": "397673fb-d4c0-4d8a-bc9c-7373936b0abe",
   "metadata": {},
   "outputs": [
    {
     "data": {
      "text/plain": [
       "Text(0.5, 0, 'Life expectancy')"
      ]
     },
     "execution_count": 54,
     "metadata": {},
     "output_type": "execute_result"
    }
   ],
   "source": [
    "ds = pd.read_csv('Life Expectancy Data.csv')\n",
    "ds = ds.dropna()\n",
    "X = ds[['Schooling', ' BMI ']]\n",
    "X = X.to_numpy()\n",
    "y = ds['Life expectancy ']\n",
    "y = y.to_numpy()\n",
    "fig = plt.figure()\n",
    "ax = fig.add_subplot(111, projection='3d')\n",
    "ax.scatter(X[:,0], X[:,1], y, c='r', marker='o')\n",
    "ax.set_xlabel('Schooling',fontsize=12)\n",
    "ax.set_ylabel('BMI',fontsize=12)\n",
    "ax.set_zlabel('Life expectancy',fontsize=12)"
   ]
  },
  {
   "cell_type": "code",
   "execution_count": 56,
   "id": "3962b68d-ed28-4c02-91c7-e682be70b7f1",
   "metadata": {},
   "outputs": [
    {
     "data": {
      "text/plain": [
       "Text(0.5, 0, 'Life expectancy')"
      ]
     },
     "execution_count": 56,
     "metadata": {},
     "output_type": "execute_result"
    }
   ],
   "source": [
    "#Standardization using z-score\n",
    "x_b = np.c_[np.ones((len(X),1)),X]\n",
    "nf,nc=x_b.shape\n",
    "x_bs=x_b\n",
    "for it in range(1,nc):\n",
    "    m=np.mean(x_b[:,it])\n",
    "    std=np.std(x_b[:,it])\n",
    "    x_bs[:,it]=(x_b[:,it]-m)/std\n",
    "\n",
    "fig = plt.figure()\n",
    "ax = fig.add_subplot(111, projection='3d')\n",
    "ax.scatter(x_bs[:,1], x_bs[:,2], y, c='r', marker='o')\n",
    "ax.set_xlabel('Schooling',fontsize=12)\n",
    "ax.set_ylabel('BMI',fontsize=12)\n",
    "ax.set_zlabel('Life expectancy',fontsize=12) "
   ]
  },
  {
   "cell_type": "code",
   "execution_count": 70,
   "id": "800fc431-2d70-4739-be29-172b41d6bc77",
   "metadata": {},
   "outputs": [
    {
     "name": "stdout",
     "output_type": "stream",
     "text": [
      "break\n",
      "9.99581414180778e-07\n",
      "[[63.68819739 65.         -1.31180261]\n",
      " [63.44963247 59.9         3.54963247]\n",
      " [63.21106754 59.9         3.31106754]\n",
      " ...\n",
      " [64.13549361 44.8        19.33549361]\n",
      " [63.71180748 45.3        18.41180748]\n",
      " [63.67617833 46.         17.67617833]]\n",
      "Iterations: 15837\n",
      "DG:  \n",
      " theta_0=69.302295 \n",
      " theta_1=5.422204, \n",
      " theta_2=1.759034\n"
     ]
    }
   ],
   "source": [
    "N=len(y)\n",
    "theta = np.array([[0],[0],[0]])\n",
    "ep=1e-6\n",
    "lr =1e-3\n",
    "n_iter = 20000\n",
    "j_cost= np.zeros([n_iter])\n",
    "y=y.reshape((len(y), 1))\n",
    "for it in range(n_iter):\n",
    "    #Gradient\n",
    "    pred = np.dot(x_bs,theta)\n",
    "    h=(pred - y)\n",
    "    si=-lr*(1/N)*(x_bs.T.dot(h))\n",
    "    theta = theta + si;\n",
    "    j_cost[it]=np.sum(np.square(h))\n",
    "    \n",
    "    if np.linalg.norm(si)<ep:\n",
    "        print('break')\n",
    "        break\n",
    "print(np.linalg.norm(si))\n",
    "fig = plt.figure()\n",
    "plt.plot(j_cost[0:it+1])\n",
    "plt.show()\n",
    "print(np.c_[pred,y,h])\n",
    "print(\"Iterations: %d\" %it)\n",
    "print(\"DG:  \\n theta_0=%f \\n theta_1=%f, \\n theta_2=%f\" %(theta[0],theta[1],theta[2]))"
   ]
  },
  {
   "cell_type": "code",
   "execution_count": 71,
   "id": "7f7eb88c-400b-46cc-9a88-9352ca091ec0",
   "metadata": {},
   "outputs": [
    {
     "data": {
      "text/plain": [
       "Text(0.5, 0, 'CO2')"
      ]
     },
     "execution_count": 71,
     "metadata": {},
     "output_type": "execute_result"
    }
   ],
   "source": [
    "%matplotlib qt\n",
    "\n",
    "xc = np.arange(np.min(x_bs[:,1]), np.max(x_bs[:,1]), 0.01)\n",
    "yc = np.arange(np.min(x_bs[:,2]), np.max(x_bs[:,2]), 0.01)\n",
    "plane=np.zeros([len(xc),len(yc)])\n",
    "\n",
    "for i in range(len(xc)):\n",
    "    for j in range(len(yc)):\n",
    "        plane[i,j]=np.dot(np.c_[1,xc[i],yc[j]],theta)\n",
    "B, M = np.meshgrid(yc, xc)\n",
    "fig = plt.figure()\n",
    "ax = fig.add_subplot(111, projection='3d')\n",
    "surf = ax.plot_surface(B,M, plane,\n",
    "                       linewidth=0, antialiased=False)\n",
    "ax.scatter(x_bs[:,1], x_bs[:,2], y, c='r', marker='o')\n",
    "ax.set_xlabel('Schooling',fontsize=12)\n",
    "ax.set_ylabel('BMI',fontsize=12)\n",
    "ax.set_zlabel('Life expectancy',fontsize=12) "
   ]
  },
  {
   "cell_type": "code",
   "execution_count": null,
   "id": "a265dc5b-99be-4f87-92c9-0e2c15fc0e78",
   "metadata": {},
   "outputs": [],
   "source": []
  }
 ],
 "metadata": {
  "kernelspec": {
   "display_name": "Python 3",
   "language": "python",
   "name": "python3"
  },
  "language_info": {
   "codemirror_mode": {
    "name": "ipython",
    "version": 3
   },
   "file_extension": ".py",
   "mimetype": "text/x-python",
   "name": "python",
   "nbconvert_exporter": "python",
   "pygments_lexer": "ipython3",
   "version": "3.8.8"
  }
 },
 "nbformat": 4,
 "nbformat_minor": 5
}
