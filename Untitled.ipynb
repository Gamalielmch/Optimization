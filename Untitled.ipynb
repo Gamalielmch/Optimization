{
 "cells": [
  {
   "cell_type": "code",
   "execution_count": 1,
   "id": "697b1b6a-eeb8-4686-9d53-d28031b79a24",
   "metadata": {},
   "outputs": [],
   "source": [
    "import numpy as np\n",
    "import matplotlib.pyplot as plt"
   ]
  },
  {
   "cell_type": "code",
   "execution_count": 1,
   "id": "42af7861-1d18-4c16-81da-ab13faa2bd32",
   "metadata": {},
   "outputs": [],
   "source": []
  },
  {
   "cell_type": "code",
   "execution_count": 2,
   "id": "f26c408b-13d5-416b-ab63-3cf559967190",
   "metadata": {},
   "outputs": [],
   "source": [
    "import numpy as np\n",
    "fb = lambda  x:3*x[1]-x[0]/x[1]\n",
    "f  = lambda  x: -2-2*x[0]+7*x[1]+x[0]*x[1]-2*x[1]**2\n",
    "fl = lambda  x: 5*x[1]-x[0]-2 \n",
    "fc = lambda  x: 5*x[1]-x[0]-2+\\\n",
    "((x[0]-2)/(2*x[1]**2) - ((x[0]*(x[1]-1))/(x[1]**3)))*(x[1]-1)\\\n",
    "+ ((x[0]-2)*(x[1]-1))/(2*x[1]**2)  "
   ]
  },
  {
   "cell_type": "code",
   "execution_count": 12,
   "id": "0aeacd91-9b22-43ac-9173-e95c25ec49b2",
   "metadata": {},
   "outputs": [
    {
     "name": "stdout",
     "output_type": "stream",
     "text": [
      "1.429089715536105 1.37 1.4240080000000002 1.440732581357949\n"
     ]
    }
   ],
   "source": [
    "print(fb([1.2,0.914]),fl([1.2,0.914]),f([1.2,0.914]),fc([1.2,0.914]))\n"
   ]
  },
  {
   "cell_type": "code",
   "execution_count": 17,
   "id": "982c4312-670d-41a7-8038-4a1580fd2d4f",
   "metadata": {},
   "outputs": [
    {
     "data": {
      "text/plain": [
       "0.763551944"
      ]
     },
     "execution_count": 17,
     "metadata": {},
     "output_type": "execute_result"
    }
   ],
   "source": [
    "0.914*0.914*0.914"
   ]
  },
  {
   "cell_type": "code",
   "execution_count": null,
   "id": "fe60513f-c140-4e30-812e-fda44faa05fb",
   "metadata": {},
   "outputs": [],
   "source": []
  }
 ],
 "metadata": {
  "kernelspec": {
   "display_name": "Python 3",
   "language": "python",
   "name": "python3"
  },
  "language_info": {
   "codemirror_mode": {
    "name": "ipython",
    "version": 3
   },
   "file_extension": ".py",
   "mimetype": "text/x-python",
   "name": "python",
   "nbconvert_exporter": "python",
   "pygments_lexer": "ipython3",
   "version": "3.8.8"
  }
 },
 "nbformat": 4,
 "nbformat_minor": 5
}
