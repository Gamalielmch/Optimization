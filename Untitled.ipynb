{
 "cells": [
  {
   "cell_type": "code",
   "execution_count": 20,
   "metadata": {},
   "outputs": [],
   "source": [
    "import numpy as np\n",
    "import numpy.linalg as la\n",
    "import scipy.optimize as sopt\n",
    "import matplotlib.pyplot as plt\n",
    "from mpl_toolkits.mplot3d import Axes3D\n",
    "from matplotlib import cm"
   ]
  },
  {
   "cell_type": "code",
   "execution_count": 21,
   "metadata": {},
   "outputs": [],
   "source": [
    "X = np.arange(-5, 5, 0.01)\n",
    "xlen = len(X)\n",
    "Y = np.arange(-5, 5, 0.01)\n",
    "ylen = len(Y)\n",
    "X, Y = np.meshgrid(X, Y)\n",
    "R = X**2 + Y**2-2*X\n",
    "fig = plt.figure()\n",
    "ax = fig.gca(projection='3d')\n",
    "surf = ax.plot_surface(X, Y, R, cmap=cm.coolwarm,\n",
    "                       linewidth=0, antialiased=False)\n",
    "plt.show()"
   ]
  },
  {
   "cell_type": "code",
   "execution_count": 25,
   "metadata": {},
   "outputs": [
    {
     "name": "stdout",
     "output_type": "stream",
     "text": [
      "-1.0 0.9999999999998721 -1.0658141036401503e-13\n"
     ]
    }
   ],
   "source": [
    "X = np.arange(-5, 5, 0.01)\n",
    "xlen = len(X)\n",
    "Y = np.arange(-5, 5, 0.01)\n",
    "ylen = len(Y)\n",
    "mini=100000\n",
    "for i in range(0,xlen):\n",
    "    for j in range(0,ylen):\n",
    "        temp = X[i]**2 + Y[j]**2-2*X[i]\n",
    "        if temp<mini:\n",
    "            mini=temp\n",
    "            x1min=X[i]\n",
    "            x2min=Y[j]\n",
    "print(mini,x1min,x2min)       "
   ]
  },
  {
   "cell_type": "code",
   "execution_count": null,
   "metadata": {},
   "outputs": [],
   "source": []
  }
 ],
 "metadata": {
  "kernelspec": {
   "display_name": "Python 3",
   "language": "python",
   "name": "python3"
  },
  "language_info": {
   "codemirror_mode": {
    "name": "ipython",
    "version": 3
   },
   "file_extension": ".py",
   "mimetype": "text/x-python",
   "name": "python",
   "nbconvert_exporter": "python",
   "pygments_lexer": "ipython3",
   "version": "3.7.4"
  }
 },
 "nbformat": 4,
 "nbformat_minor": 4
}
