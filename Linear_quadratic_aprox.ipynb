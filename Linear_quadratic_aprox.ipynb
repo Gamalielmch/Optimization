{
 "cells": [
  {
   "cell_type": "markdown",
   "id": "8e3f0aae-a551-47e9-9c15-6e4c6a330eb2",
   "metadata": {},
   "source": [
    "### Linear and quadratic approximation\n",
    "Estimate linear and quadratic approximation, using Taylor series, of the expression\n",
    "\n",
    "$f(x)=3x_2-\\frac{x_1}{x_2}$\n",
    "\n",
    "at point $(2,1)$\n",
    "\n",
    "Linear approximation \n",
    "\n",
    "$f(x) \\approx 5x_2 -x_1 -2$\n",
    "\n",
    "Quadratic approximation\n",
    "\n",
    "$f(x) \\approx 5x_2 -x_1 -2 +\\left[ \\frac{x_1-2}{2x_2^2} - \\frac{x_1(x_2-1)}{x_2^3}+ \\frac{x_1-2}{2x_2^2}\\right] (x_2-1)$"
   ]
  },
  {
   "cell_type": "code",
   "execution_count": 2,
   "id": "0145c993-5fb1-4658-97be-8e9e38e74540",
   "metadata": {},
   "outputs": [],
   "source": [
    "import numpy as np\n",
    "import matplotlib.pyplot as plt\n",
    "from mpl_toolkits.mplot3d import Axes3D\n",
    "from matplotlib import cm, colors\n",
    "%matplotlib qt"
   ]
  },
  {
   "cell_type": "code",
   "execution_count": 3,
   "id": "596bd114-b39c-4e68-b29d-97be54d99e91",
   "metadata": {},
   "outputs": [],
   "source": [
    "f = lambda  x1,x2 :3*x2-x1/x2\n",
    "fl = lambda  x1,x2: 5*x2-x1-2 \n",
    "fc = lambda  x1,x2: 5*x2-x1-2+\\\n",
    "((x1-2)/(2*x2**2) - ((x1*(x2-1))/(x2**3)))*(x2-1)\\\n",
    "+ ((x1-2)*(x2-1))/(2*x2**2)  \n",
    "fcc= lambda  x1,x2: 5*x2-x1-2+ ( (x1-2)/(2*x2**2) - (x1*(x2-1))/(x2**3) + (x1-2)/(2*x2**2) ) *(x2-1)"
   ]
  },
  {
   "cell_type": "code",
   "execution_count": 4,
   "id": "152d6318-04b4-49a0-92c2-f94530e61adb",
   "metadata": {},
   "outputs": [
    {
     "name": "stdout",
     "output_type": "stream",
     "text": [
      "2.361538461538462 2.5 2.4180700955848886 2.4180700955848886\n"
     ]
    }
   ],
   "source": [
    "x1=2\n",
    "x2=1.3\n",
    "print(f(x1,x2),fl(x1,x2),fc(x1,x2),fcc(x1,x2))"
   ]
  },
  {
   "cell_type": "code",
   "execution_count": 7,
   "id": "89033973-e29c-438a-8cec-d3f709657d88",
   "metadata": {},
   "outputs": [],
   "source": [
    "x1 = np.linspace(1.2, 2.8, 100)\n",
    "x2 = np.linspace(0.1,1.8, 100)\n",
    "xx1, xx2 = np.meshgrid(x1, x2)\n",
    "fun=f(xx1,xx2)\n",
    "plano=fl(xx1,xx2)\n",
    "para=fcc(xx1,xx2)\n",
    "fig = plt.figure()\n",
    "ax = fig.gca(projection='3d')\n",
    "ax.plot_surface(xx1, xx2, fun, cmap=plt.cm.RdYlGn,\n",
    "                       linewidth=0, antialiased=False)\n",
    "cmap = colors.LinearSegmentedColormap.from_list(\"\", [\"black\",\"black\",\"black\"])\n",
    "\n",
    "ax.plot_surface(xx1, xx2, plano, alpha = 0.5, rstride=1, cstride=1, cmap=cmap,linewidth=0.5, antialiased=True, zorder = 0.3)\n",
    "ax.scatter(2, 1 , f(2,1),s=50)\n",
    "ax.set_zlim(-25,10);\n"
   ]
  },
  {
   "cell_type": "code",
   "execution_count": null,
   "id": "14fc4b86-0021-4ae3-a699-2d8741f321b7",
   "metadata": {},
   "outputs": [],
   "source": []
  }
 ],
 "metadata": {
  "kernelspec": {
   "display_name": "Python 3",
   "language": "python",
   "name": "python3"
  },
  "language_info": {
   "codemirror_mode": {
    "name": "ipython",
    "version": 3
   },
   "file_extension": ".py",
   "mimetype": "text/x-python",
   "name": "python",
   "nbconvert_exporter": "python",
   "pygments_lexer": "ipython3",
   "version": "3.8.8"
  }
 },
 "nbformat": 4,
 "nbformat_minor": 5
}
